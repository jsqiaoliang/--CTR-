{
 "cells": [
  {
   "cell_type": "markdown",
   "metadata": {},
   "source": [
    "# 1.导入特征工程后的数据"
   ]
  },
  {
   "cell_type": "code",
   "execution_count": 2,
   "metadata": {},
   "outputs": [],
   "source": [
    "from xgboost import XGBClassifier\n",
    "import xgboost as xgb\n",
    "\n",
    "import pandas as pd \n",
    "import numpy as np\n",
    "\n",
    "from sklearn.model_selection import GridSearchCV\n",
    "from sklearn.model_selection import KFold\n",
    "from sklearn.model_selection import StratifiedKFold\n",
    "from sklearn.model_selection import train_test_split\n",
    "from sklearn.preprocessing import OneHotEncoder\n",
    "\n",
    "from sklearn.metrics import log_loss\n",
    "from sklearn.metrics import roc_curve\n",
    "\n",
    "from matplotlib import pyplot as plt\n",
    "import seaborn as sns\n",
    "%matplotlib inline"
   ]
  },
  {
   "cell_type": "code",
   "execution_count": 3,
   "metadata": {
    "scrolled": true
   },
   "outputs": [
    {
     "data": {
      "text/html": [
       "<div>\n",
       "<style scoped>\n",
       "    .dataframe tbody tr th:only-of-type {\n",
       "        vertical-align: middle;\n",
       "    }\n",
       "\n",
       "    .dataframe tbody tr th {\n",
       "        vertical-align: top;\n",
       "    }\n",
       "\n",
       "    .dataframe thead th {\n",
       "        text-align: right;\n",
       "    }\n",
       "</style>\n",
       "<table border=\"1\" class=\"dataframe\">\n",
       "  <thead>\n",
       "    <tr style=\"text-align: right;\">\n",
       "      <th></th>\n",
       "      <th>click</th>\n",
       "      <th>C1</th>\n",
       "      <th>banner_pos</th>\n",
       "      <th>site_id</th>\n",
       "      <th>site_domain</th>\n",
       "      <th>site_category</th>\n",
       "      <th>app_id</th>\n",
       "      <th>app_domain</th>\n",
       "      <th>app_category</th>\n",
       "      <th>device_model</th>\n",
       "      <th>...</th>\n",
       "      <th>C15</th>\n",
       "      <th>C16</th>\n",
       "      <th>C17</th>\n",
       "      <th>C18</th>\n",
       "      <th>C19</th>\n",
       "      <th>C20</th>\n",
       "      <th>C21</th>\n",
       "      <th>hour_hours</th>\n",
       "      <th>hour_weekday</th>\n",
       "      <th>hour_days</th>\n",
       "    </tr>\n",
       "  </thead>\n",
       "  <tbody>\n",
       "    <tr>\n",
       "      <th>0</th>\n",
       "      <td>0</td>\n",
       "      <td>0</td>\n",
       "      <td>0</td>\n",
       "      <td>1</td>\n",
       "      <td>1</td>\n",
       "      <td>2</td>\n",
       "      <td>0</td>\n",
       "      <td>0</td>\n",
       "      <td>0</td>\n",
       "      <td>-1</td>\n",
       "      <td>...</td>\n",
       "      <td>0</td>\n",
       "      <td>0</td>\n",
       "      <td>0</td>\n",
       "      <td>0</td>\n",
       "      <td>0</td>\n",
       "      <td>0</td>\n",
       "      <td>2</td>\n",
       "      <td>0</td>\n",
       "      <td>2</td>\n",
       "      <td>0</td>\n",
       "    </tr>\n",
       "    <tr>\n",
       "      <th>1</th>\n",
       "      <td>0</td>\n",
       "      <td>0</td>\n",
       "      <td>0</td>\n",
       "      <td>1</td>\n",
       "      <td>1</td>\n",
       "      <td>2</td>\n",
       "      <td>0</td>\n",
       "      <td>0</td>\n",
       "      <td>0</td>\n",
       "      <td>11</td>\n",
       "      <td>...</td>\n",
       "      <td>0</td>\n",
       "      <td>0</td>\n",
       "      <td>0</td>\n",
       "      <td>0</td>\n",
       "      <td>0</td>\n",
       "      <td>1</td>\n",
       "      <td>2</td>\n",
       "      <td>0</td>\n",
       "      <td>2</td>\n",
       "      <td>0</td>\n",
       "    </tr>\n",
       "    <tr>\n",
       "      <th>2</th>\n",
       "      <td>0</td>\n",
       "      <td>0</td>\n",
       "      <td>0</td>\n",
       "      <td>1</td>\n",
       "      <td>1</td>\n",
       "      <td>2</td>\n",
       "      <td>0</td>\n",
       "      <td>0</td>\n",
       "      <td>0</td>\n",
       "      <td>0</td>\n",
       "      <td>...</td>\n",
       "      <td>0</td>\n",
       "      <td>0</td>\n",
       "      <td>0</td>\n",
       "      <td>0</td>\n",
       "      <td>0</td>\n",
       "      <td>1</td>\n",
       "      <td>2</td>\n",
       "      <td>0</td>\n",
       "      <td>2</td>\n",
       "      <td>0</td>\n",
       "    </tr>\n",
       "    <tr>\n",
       "      <th>3</th>\n",
       "      <td>0</td>\n",
       "      <td>0</td>\n",
       "      <td>0</td>\n",
       "      <td>1</td>\n",
       "      <td>1</td>\n",
       "      <td>2</td>\n",
       "      <td>0</td>\n",
       "      <td>0</td>\n",
       "      <td>0</td>\n",
       "      <td>43</td>\n",
       "      <td>...</td>\n",
       "      <td>0</td>\n",
       "      <td>0</td>\n",
       "      <td>0</td>\n",
       "      <td>0</td>\n",
       "      <td>0</td>\n",
       "      <td>1</td>\n",
       "      <td>2</td>\n",
       "      <td>0</td>\n",
       "      <td>2</td>\n",
       "      <td>0</td>\n",
       "    </tr>\n",
       "    <tr>\n",
       "      <th>4</th>\n",
       "      <td>0</td>\n",
       "      <td>0</td>\n",
       "      <td>1</td>\n",
       "      <td>-1</td>\n",
       "      <td>-1</td>\n",
       "      <td>-1</td>\n",
       "      <td>0</td>\n",
       "      <td>0</td>\n",
       "      <td>0</td>\n",
       "      <td>22</td>\n",
       "      <td>...</td>\n",
       "      <td>0</td>\n",
       "      <td>0</td>\n",
       "      <td>113</td>\n",
       "      <td>0</td>\n",
       "      <td>0</td>\n",
       "      <td>0</td>\n",
       "      <td>6</td>\n",
       "      <td>0</td>\n",
       "      <td>2</td>\n",
       "      <td>0</td>\n",
       "    </tr>\n",
       "  </tbody>\n",
       "</table>\n",
       "<p>5 rows × 23 columns</p>\n",
       "</div>"
      ],
      "text/plain": [
       "   click  C1  banner_pos  site_id  site_domain  site_category  app_id  \\\n",
       "0      0   0           0        1            1              2       0   \n",
       "1      0   0           0        1            1              2       0   \n",
       "2      0   0           0        1            1              2       0   \n",
       "3      0   0           0        1            1              2       0   \n",
       "4      0   0           1       -1           -1             -1       0   \n",
       "\n",
       "   app_domain  app_category  device_model    ...      C15  C16  C17  C18  C19  \\\n",
       "0           0             0            -1    ...        0    0    0    0    0   \n",
       "1           0             0            11    ...        0    0    0    0    0   \n",
       "2           0             0             0    ...        0    0    0    0    0   \n",
       "3           0             0            43    ...        0    0    0    0    0   \n",
       "4           0             0            22    ...        0    0  113    0    0   \n",
       "\n",
       "   C20  C21  hour_hours  hour_weekday  hour_days  \n",
       "0    0    2           0             2          0  \n",
       "1    1    2           0             2          0  \n",
       "2    1    2           0             2          0  \n",
       "3    1    2           0             2          0  \n",
       "4    0    6           0             2          0  \n",
       "\n",
       "[5 rows x 23 columns]"
      ]
     },
     "execution_count": 3,
     "metadata": {},
     "output_type": "execute_result"
    }
   ],
   "source": [
    "train = pd.read_csv(\"train_4.csv\",nrows= 3000,index_col=0)   #拿50万条数据训练\n",
    "train.head()"
   ]
  },
  {
   "cell_type": "code",
   "execution_count": 4,
   "metadata": {},
   "outputs": [
    {
     "name": "stdout",
     "output_type": "stream",
     "text": [
      "<class 'pandas.core.frame.DataFrame'>\n",
      "Int64Index: 3000 entries, 0 to 2999\n",
      "Data columns (total 23 columns):\n",
      "click               3000 non-null int64\n",
      "C1                  3000 non-null int64\n",
      "banner_pos          3000 non-null int64\n",
      "site_id             3000 non-null int64\n",
      "site_domain         3000 non-null int64\n",
      "site_category       3000 non-null int64\n",
      "app_id              3000 non-null int64\n",
      "app_domain          3000 non-null int64\n",
      "app_category        3000 non-null int64\n",
      "device_model        3000 non-null int64\n",
      "device_type         3000 non-null int64\n",
      "device_conn_type    3000 non-null int64\n",
      "C14                 3000 non-null int64\n",
      "C15                 3000 non-null int64\n",
      "C16                 3000 non-null int64\n",
      "C17                 3000 non-null int64\n",
      "C18                 3000 non-null int64\n",
      "C19                 3000 non-null int64\n",
      "C20                 3000 non-null int64\n",
      "C21                 3000 non-null int64\n",
      "hour_hours          3000 non-null int64\n",
      "hour_weekday        3000 non-null int64\n",
      "hour_days           3000 non-null int64\n",
      "dtypes: int64(23)\n",
      "memory usage: 562.5 KB\n"
     ]
    }
   ],
   "source": [
    "train.info()"
   ]
  },
  {
   "cell_type": "markdown",
   "metadata": {},
   "source": [
    "# 2.GBDT模型"
   ]
  },
  {
   "cell_type": "code",
   "execution_count": 5,
   "metadata": {},
   "outputs": [],
   "source": [
    "y = train['click']\n",
    "x = train.drop([\"click\"], axis=1)\n",
    "x_train, x_test, y_train, y_test = train_test_split(x, y, test_size = 0.3, random_state = 42)"
   ]
  },
  {
   "cell_type": "code",
   "execution_count": 6,
   "metadata": {},
   "outputs": [
    {
     "name": "stdout",
     "output_type": "stream",
     "text": [
      "test logloss of GBDT  : 0.4336803011596203\n"
     ]
    }
   ],
   "source": [
    "# 定义模型\n",
    "xgboost = xgb.XGBClassifier(nthread=4, learning_rate=0.08,\n",
    "                        n_estimators=20, max_depth=2, gamma=0, subsample=0.5, colsample_bytree=0.7)\n",
    "# 训练学习\n",
    "xgboost.fit(x_train, y_train)\n",
    "\n",
    "\n",
    "# 预测及logloss评测\n",
    "y_pred_gbdt = xgboost.predict_proba(x_test)\n",
    "logloss_gbdt = log_loss(y_test, y_pred_gbdt)\n",
    "print (\"test logloss of GBDT  :\",logloss_gbdt )\n",
    "\n",
    "fpr_gbdt, tpr_gbdt, _ = roc_curve(y_test, y_pred_gbdt[:,1])"
   ]
  },
  {
   "cell_type": "code",
   "execution_count": 7,
   "metadata": {},
   "outputs": [],
   "source": [
    "fpr_gbdt, tpr_gbdt, _ = roc_curve(y_test, y_pred_gbdt[:,1])"
   ]
  },
  {
   "cell_type": "markdown",
   "metadata": {},
   "source": [
    "### 用训练好GBDT，对原始特征编码"
   ]
  },
  {
   "cell_type": "code",
   "execution_count": 8,
   "metadata": {},
   "outputs": [
    {
     "name": "stdout",
     "output_type": "stream",
     "text": [
      "训练集编码后size: (2100, 20)\n",
      "验证集编码后size: (900, 20)\n"
     ]
    }
   ],
   "source": [
    "# xgboost编码原有特征。变为【数据条数:树的数目】\n",
    "#如果用gbdt(GradientBoostingClassifier)，apply()的结果是三维的,[数据条数:树的数目:叶子节点数]x_train_leaves = xgboost.apply(x_train)[:,:,0]\n",
    "x_train_leaves = xgboost.apply(x_train)     \n",
    "x_test_leaves = xgboost.apply(x_test) \n",
    "\n",
    "print(\"训练集编码后size:\",x_train_leaves.shape)\n",
    "print(\"验证集编码后size:\",x_test_leaves.shape)"
   ]
  },
  {
   "cell_type": "markdown",
   "metadata": {},
   "source": [
    "# 3.数据预处理"
   ]
  },
  {
   "cell_type": "markdown",
   "metadata": {},
   "source": [
    "由于自己实现的FFM模型,参数指定是dataFrame，这里需要先转换格式"
   ]
  },
  {
   "cell_type": "code",
   "execution_count": 9,
   "metadata": {},
   "outputs": [],
   "source": [
    "#ndarray 转dataFrame\n",
    "x_train_leaves = pd.DataFrame(x_train_leaves)            \n",
    "x_test_leaves = pd.DataFrame(x_test_leaves)\n",
    "y_train=pd.DataFrame(y_train)\n",
    "y_test=pd.DataFrame(y_test)"
   ]
  },
  {
   "cell_type": "markdown",
   "metadata": {},
   "source": [
    "调用预处理方法,one_hot，同时得到ffm_dic字典"
   ]
  },
  {
   "cell_type": "code",
   "execution_count": 10,
   "metadata": {
    "scrolled": true
   },
   "outputs": [
    {
     "name": "stdout",
     "output_type": "stream",
     "text": [
      "训练集onehot后size: (2100, 80)\n",
      "验证集onehot后size: (900, 80)\n",
      "<class 'pandas.core.frame.DataFrame'>\n"
     ]
    }
   ],
   "source": [
    "import ffm_data_process                #FFM前的数据预处理(内含one-hot)\n",
    "\n",
    "x_train,x_test,feature_n,filed_m,ffm_dic = ffm_data_process.onehot_get_dict(x_train_leaves,x_test_leaves)\n",
    "# del x_train_leaves,x_test_leaves\n",
    "print(\"训练集onehot后size:\",x_train.shape)\n",
    "print(\"验证集onehot后size:\",x_test.shape)\n",
    "print(type(x_train))"
   ]
  },
  {
   "cell_type": "markdown",
   "metadata": {},
   "source": [
    "# 4.GBDT+LR:"
   ]
  },
  {
   "cell_type": "code",
   "execution_count": 11,
   "metadata": {},
   "outputs": [
    {
     "name": "stderr",
     "output_type": "stream",
     "text": [
      "D:\\Anaconda\\lib\\site-packages\\sklearn\\utils\\validation.py:578: DataConversionWarning: A column-vector y was passed when a 1d array was expected. Please change the shape of y to (n_samples, ), for example using ravel().\n",
      "  y = column_or_1d(y, warn=True)\n",
      "D:\\Anaconda\\lib\\site-packages\\sklearn\\linear_model\\logistic.py:1228: UserWarning: 'n_jobs' > 1 does not have any effect when 'solver' is set to 'liblinear'. Got 'n_jobs' = -1.\n",
      "  \" = {}.\".format(self.n_jobs))\n"
     ]
    },
    {
     "data": {
      "text/plain": [
       "LogisticRegression(C=0.1, class_weight=None, dual=False, fit_intercept=True,\n",
       "          intercept_scaling=1, max_iter=100, multi_class='ovr', n_jobs=-1,\n",
       "          penalty='l1', random_state=None, solver='liblinear', tol=0.0001,\n",
       "          verbose=0, warm_start=False)"
      ]
     },
     "execution_count": 11,
     "metadata": {},
     "output_type": "execute_result"
    }
   ],
   "source": [
    "from sklearn.linear_model import LogisticRegression\n",
    "# 定义LR模型\n",
    "lr = LogisticRegression(n_jobs = -1, C=0.1, penalty='l1',solver='liblinear')\n",
    "# lr对gbdt特征编码后的样本模型训练\n",
    "lr.fit(x_train, y_train)"
   ]
  },
  {
   "cell_type": "code",
   "execution_count": 12,
   "metadata": {},
   "outputs": [
    {
     "name": "stdout",
     "output_type": "stream",
     "text": [
      "LogLoss: 0.40835707116546777\n"
     ]
    }
   ],
   "source": [
    "# 预测及LogLoss评测\n",
    "y_pred_lr = lr.predict_proba(x_test)\n",
    "logloss = log_loss(y_test, y_pred_lr)\n",
    "print('LogLoss:' , logloss)"
   ]
  },
  {
   "cell_type": "code",
   "execution_count": 13,
   "metadata": {},
   "outputs": [],
   "source": [
    "fpr_lr, tpr_lr, _ = roc_curve(y_test, y_pred_lr[:,1])"
   ]
  },
  {
   "cell_type": "markdown",
   "metadata": {},
   "source": [
    "# 5.GBDT+FTRL"
   ]
  },
  {
   "cell_type": "code",
   "execution_count": 32,
   "metadata": {},
   "outputs": [
    {
     "name": "stdout",
     "output_type": "stream",
     "text": [
      "epoch: 0 i= 0\tloss=0.6931471805599453\n",
      "epoch: 0 i= 500\tloss=0.4045771321943643\n",
      "epoch: 0 i= 1000\tloss=0.07185249017502504\n",
      "epoch: 0 i= 1500\tloss=0.06828153434983945\n",
      "epoch: 0 i= 2000\tloss=0.07474042737092866\n",
      "epoch: 1 i= 0\tloss=0.0812166737835196\n",
      "epoch: 1 i= 500\tloss=0.3529765289959689\n",
      "epoch: 1 i= 1000\tloss=0.058696473553055746\n",
      "epoch: 1 i= 1500\tloss=0.07565438173572854\n",
      "epoch: 1 i= 2000\tloss=0.07534510460059\n",
      "epoch: 2 i= 0\tloss=0.08410749364629129\n",
      "epoch: 2 i= 500\tloss=0.33209414774625656\n",
      "epoch: 2 i= 1000\tloss=0.0566121848102279\n",
      "epoch: 2 i= 1500\tloss=0.07834759712650236\n",
      "epoch: 2 i= 2000\tloss=0.07529840882254107\n",
      "epoch: 3 i= 0\tloss=0.08633552483655055\n",
      "epoch: 3 i= 500\tloss=0.319674267457581\n",
      "epoch: 3 i= 1000\tloss=0.05625948351590896\n",
      "epoch: 3 i= 1500\tloss=0.08005885888079328\n",
      "epoch: 3 i= 2000\tloss=0.07521896849388567\n",
      "epoch: 4 i= 0\tloss=0.08826297534714939\n",
      "epoch: 4 i= 500\tloss=0.3111714455854042\n",
      "epoch: 4 i= 1000\tloss=0.05639203956116984\n",
      "epoch: 4 i= 1500\tloss=0.08136558727942926\n",
      "epoch: 4 i= 2000\tloss=0.07516273873965337\n",
      "time: 44.46000051498413\n"
     ]
    }
   ],
   "source": [
    "import FTRL\n",
    "d = x_train.shape[1] \n",
    "ftrl = FTRL.FTRL(dim=d, l1=0.01, l2=0.01, alpha=0.08, beta=1.0)\n",
    "start = time.time()\n",
    "ftrl.train(x_train, y_train, min_loss=0.01, epochs=5,early_stop = 100,print_loss = True)\n",
    "end = time.time()\n",
    "print(\"time:\",str(end-start))"
   ]
  },
  {
   "cell_type": "code",
   "execution_count": 33,
   "metadata": {},
   "outputs": [
    {
     "name": "stdout",
     "output_type": "stream",
     "text": [
      "test logloss of FTRL  : 0.4046678317481171\n"
     ]
    }
   ],
   "source": [
    "y_pred_ftrl = ftrl.predict(x_test)\n",
    "logloss_ftrl = log_loss(y_test, y_pred_ftrl)\n",
    "print (\"test logloss of FTRL  :\",logloss_ftrl )"
   ]
  },
  {
   "cell_type": "code",
   "execution_count": 16,
   "metadata": {},
   "outputs": [],
   "source": [
    "fpr_ftrl, tpr_ftrl, _ = roc_curve(y_test, y_pred_ftrl)"
   ]
  },
  {
   "cell_type": "markdown",
   "metadata": {},
   "source": [
    "# 6.GBDT+FFM"
   ]
  },
  {
   "cell_type": "markdown",
   "metadata": {},
   "source": [
    "FFM的时间复杂度O(KD²)，训练很慢"
   ]
  },
  {
   "cell_type": "code",
   "execution_count": null,
   "metadata": {
    "scrolled": true
   },
   "outputs": [
    {
     "name": "stdout",
     "output_type": "stream",
     "text": [
      "epoch: 0,第: 0 条数据训练\n",
      "epoch: 0,第: 500 条数据训练\n",
      "epoch: 0,第: 1000 条数据训练\n",
      "epoch: 0,第: 1500 条数据训练\n",
      "epoch: 0,第: 2000 条数据训练\n",
      "epoch: 0, train_loss: 0.4579894520861596\n",
      "epoch: 1,第: 0 条数据训练\n",
      "epoch: 1,第: 500 条数据训练\n",
      "epoch: 1,第: 1000 条数据训练\n",
      "epoch: 1,第: 1500 条数据训练\n",
      "epoch: 1,第: 2000 条数据训练\n",
      "epoch: 1, train_loss: 0.45563783625888205\n",
      "epoch: 2,第: 0 条数据训练\n",
      "epoch: 2,第: 500 条数据训练\n",
      "epoch: 2,第: 1000 条数据训练\n",
      "epoch: 2,第: 1500 条数据训练\n"
     ]
    }
   ],
   "source": [
    "from FFM import FFMClassifier  \n",
    "import time\n",
    "k = 4\n",
    "eta = 0.2\n",
    "lambd = 2e-5\n",
    "max_echo = 6   \n",
    "min_loss =0.2\n",
    "ffm = FFMClassifier(feature_n, filed_m , k , eta , lambd , ffm_dic )\n",
    "start = time.time()\n",
    "ffm.train(x_train , y_train, max_echo , min_loss)\n",
    "end = time.time()\n",
    "print(\"time:\",str(end-start))"
   ]
  },
  {
   "cell_type": "code",
   "execution_count": 40,
   "metadata": {},
   "outputs": [
    {
     "name": "stdout",
     "output_type": "stream",
     "text": [
      "test logloss of FFM  : 0.44843363466388036\n"
     ]
    }
   ],
   "source": [
    "y_pred_ffm = ffm.predict(x_test)\n",
    "logloss_ffm = log_loss(y_test,y_pred_ffm)\n",
    "print (\"test logloss of FFM  :\",logloss_ffm )"
   ]
  },
  {
   "cell_type": "code",
   "execution_count": 41,
   "metadata": {},
   "outputs": [],
   "source": [
    "fpr_ffm, tpr_ffm, _ = roc_curve(y_test, y_pred_ffm)"
   ]
  },
  {
   "cell_type": "markdown",
   "metadata": {},
   "source": [
    "# 7.图形展示"
   ]
  },
  {
   "cell_type": "code",
   "execution_count": 42,
   "metadata": {},
   "outputs": [
    {
     "data": {
      "image/png": "[encoded data removed]",
      "text/plain": [
       "<matplotlib.figure.Figure at 0x1ad226d8>"
      ]
     },
     "metadata": {},
     "output_type": "display_data"
    },
    {
     "data": {
      "image/png": "[encoded data removed]",
      "text/plain": [
       "<matplotlib.figure.Figure at 0x1b220c88>"
      ]
     },
     "metadata": {},
     "output_type": "display_data"
    }
   ],
   "source": [
    "\n",
    "plt.figure(1)\n",
    "plt.plot([0, 1], [0, 1], 'k--')\n",
    "plt.plot(fpr_gbdt, tpr_gbdt, label='GBDT')\n",
    "plt.plot(fpr_ftrl, tpr_ftrl, label='GBDT + FTRL')\n",
    "plt.plot(fpr_ffm, tpr_ffm, label='GBDT+FFM')\n",
    "plt.plot(fpr_lr, tpr_lr, label='GBDT+LR')\n",
    "plt.xlabel('False positive rate')\n",
    "plt.ylabel('True positive rate')\n",
    "plt.title('ROC curve')\n",
    "plt.legend(loc='best')\n",
    "plt.show()\n",
    "\n",
    "plt.figure(2)\n",
    "plt.xlim(0.5, 1.0)\n",
    "plt.ylim(0.8, 1.0)\n",
    "plt.plot([0, 1], [0, 1], 'k--')\n",
    "plt.plot(fpr_gbdt, tpr_gbdt, label='GBDT')\n",
    "plt.plot(fpr_ftrl, tpr_ftrl, label='GBDT + FTRL')\n",
    "plt.plot(fpr_ffm, tpr_ffm, label='GBDT+FFM')\n",
    "plt.plot(fpr_lr, tpr_lr, label='GBDT+LR')\n",
    "plt.xlabel('False positive rate')\n",
    "plt.ylabel('True positive rate')\n",
    "plt.title('ROC curve (zoomed in at top left)')\n",
    "plt.legend(loc='best')\n",
    "plt.show()"
   ]
  },
  {
   "cell_type": "code",
   "execution_count": null,
   "metadata": {},
   "outputs": [],
   "source": []
  },
  {
   "cell_type": "code",
   "execution_count": null,
   "metadata": {},
   "outputs": [],
   "source": []
  }
 ],
 "metadata": {
  "kernelspec": {
   "display_name": "Python 3",
   "language": "python",
   "name": "python3"
  },
  "language_info": {
   "codemirror_mode": {
    "name": "ipython",
    "version": 3
   },
   "file_extension": ".py",
   "mimetype": "text/x-python",
   "name": "python",
   "nbconvert_exporter": "python",
   "pygments_lexer": "ipython3",
   "version": "3.6.4"
  }
 },
 "nbformat": 4,
 "nbformat_minor": 2
}
