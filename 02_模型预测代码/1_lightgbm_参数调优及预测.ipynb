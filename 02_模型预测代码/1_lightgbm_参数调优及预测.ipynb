{
 "cells": [
  {
   "cell_type": "markdown",
   "metadata": {},
   "source": [
    "首先 import 必要的模块"
   ]
  },
  {
   "cell_type": "code",
   "execution_count": 2,
   "metadata": {},
   "outputs": [],
   "source": [
    "#from xgboost import XGBClassifier\n",
    "import lightgbm as lgbm\n",
    "#from lgbm.sklearn import LGBMClassifier\n",
    "\n",
    "import pandas as pd \n",
    "import numpy as np\n",
    "import time\n",
    "\n",
    "from sklearn.model_selection import GridSearchCV\n",
    "from sklearn.model_selection import StratifiedKFold\n",
    "from sklearn.metrics import log_loss     #采用logloss作为评价指标\n",
    "\n",
    "from sklearn.metrics import log_loss\n",
    "\n",
    "from matplotlib import pyplot\n",
    "import seaborn as sns\n",
    "%matplotlib inline"
   ]
  },
  {
   "cell_type": "markdown",
   "metadata": {},
   "source": [
    "## 读取数据"
   ]
  },
  {
   "cell_type": "code",
   "execution_count": 114,
   "metadata": {
    "scrolled": true
   },
   "outputs": [
    {
     "data": {
      "text/plain": [
       "(7932959, 23)"
      ]
     },
     "execution_count": 114,
     "metadata": {},
     "output_type": "execute_result"
    }
   ],
   "source": [
    "train = pd.read_csv(\"D:/Jupyter/w000/train_final/800w/800_0\",index_col=0)   #拿200万条数据训练\n",
    "train.drop(['id','hour','user_id','Unnamed: 0'],axis=1,inplace=True)\n",
    "train.shape"
   ]
  },
  {
   "cell_type": "code",
   "execution_count": 115,
   "metadata": {},
   "outputs": [
    {
     "data": {
      "text/plain": [
       "(3936502, 23)"
      ]
     },
     "execution_count": 115,
     "metadata": {},
     "output_type": "execute_result"
    }
   ],
   "source": [
    "valid = pd.read_csv(\"D:/Jupyter/w000/train_final/400w/400_1\",index_col=0)   #拿200万条数据训练\n",
    "valid.drop(['id','hour','user_id','Unnamed: 0'],axis=1,inplace=True)\n",
    "valid.shape"
   ]
  },
  {
   "cell_type": "code",
   "execution_count": 116,
   "metadata": {
    "scrolled": true
   },
   "outputs": [
    {
     "name": "stderr",
     "output_type": "stream",
     "text": [
      "C:\\Anaconda3\\lib\\site-packages\\numpy\\lib\\arraysetops.py:466: FutureWarning: elementwise comparison failed; returning scalar instead, but in the future will perform elementwise comparison\n",
      "  mask |= (ar1 == a)\n"
     ]
    },
    {
     "data": {
      "text/html": [
       "<div>\n",
       "<style scoped>\n",
       "    .dataframe tbody tr th:only-of-type {\n",
       "        vertical-align: middle;\n",
       "    }\n",
       "\n",
       "    .dataframe tbody tr th {\n",
       "        vertical-align: top;\n",
       "    }\n",
       "\n",
       "    .dataframe thead th {\n",
       "        text-align: right;\n",
       "    }\n",
       "</style>\n",
       "<table border=\"1\" class=\"dataframe\">\n",
       "  <thead>\n",
       "    <tr style=\"text-align: right;\">\n",
       "      <th></th>\n",
       "      <th>click</th>\n",
       "      <th>C1</th>\n",
       "      <th>banner_pos</th>\n",
       "      <th>site_id</th>\n",
       "      <th>site_domain</th>\n",
       "      <th>site_category</th>\n",
       "      <th>app_id</th>\n",
       "      <th>app_domain</th>\n",
       "      <th>app_category</th>\n",
       "      <th>device_model</th>\n",
       "      <th>...</th>\n",
       "      <th>C15</th>\n",
       "      <th>C16</th>\n",
       "      <th>C17</th>\n",
       "      <th>C18</th>\n",
       "      <th>C19</th>\n",
       "      <th>C20</th>\n",
       "      <th>C21</th>\n",
       "      <th>hour_hours</th>\n",
       "      <th>hour_weekday</th>\n",
       "      <th>hour_days</th>\n",
       "    </tr>\n",
       "  </thead>\n",
       "  <tbody>\n",
       "    <tr>\n",
       "      <th>36210029</th>\n",
       "      <td>0</td>\n",
       "      <td>0</td>\n",
       "      <td>1</td>\n",
       "      <td>86</td>\n",
       "      <td>2</td>\n",
       "      <td>1</td>\n",
       "      <td>0</td>\n",
       "      <td>0</td>\n",
       "      <td>0</td>\n",
       "      <td>140</td>\n",
       "      <td>...</td>\n",
       "      <td>0</td>\n",
       "      <td>0</td>\n",
       "      <td>181</td>\n",
       "      <td>0</td>\n",
       "      <td>0</td>\n",
       "      <td>53</td>\n",
       "      <td>11</td>\n",
       "      <td>0</td>\n",
       "      <td>4</td>\n",
       "      <td>9</td>\n",
       "    </tr>\n",
       "    <tr>\n",
       "      <th>36210030</th>\n",
       "      <td>0</td>\n",
       "      <td>0</td>\n",
       "      <td>1</td>\n",
       "      <td>86</td>\n",
       "      <td>2</td>\n",
       "      <td>1</td>\n",
       "      <td>0</td>\n",
       "      <td>0</td>\n",
       "      <td>0</td>\n",
       "      <td>7</td>\n",
       "      <td>...</td>\n",
       "      <td>0</td>\n",
       "      <td>0</td>\n",
       "      <td>181</td>\n",
       "      <td>0</td>\n",
       "      <td>0</td>\n",
       "      <td>34</td>\n",
       "      <td>11</td>\n",
       "      <td>0</td>\n",
       "      <td>4</td>\n",
       "      <td>9</td>\n",
       "    </tr>\n",
       "    <tr>\n",
       "      <th>36210031</th>\n",
       "      <td>0</td>\n",
       "      <td>0</td>\n",
       "      <td>0</td>\n",
       "      <td>128</td>\n",
       "      <td>109</td>\n",
       "      <td>3</td>\n",
       "      <td>0</td>\n",
       "      <td>0</td>\n",
       "      <td>0</td>\n",
       "      <td>53</td>\n",
       "      <td>...</td>\n",
       "      <td>0</td>\n",
       "      <td>0</td>\n",
       "      <td>27</td>\n",
       "      <td>1</td>\n",
       "      <td>1</td>\n",
       "      <td>2</td>\n",
       "      <td>0</td>\n",
       "      <td>0</td>\n",
       "      <td>4</td>\n",
       "      <td>9</td>\n",
       "    </tr>\n",
       "    <tr>\n",
       "      <th>36210032</th>\n",
       "      <td>0</td>\n",
       "      <td>0</td>\n",
       "      <td>1</td>\n",
       "      <td>5</td>\n",
       "      <td>5</td>\n",
       "      <td>1</td>\n",
       "      <td>0</td>\n",
       "      <td>0</td>\n",
       "      <td>0</td>\n",
       "      <td>98</td>\n",
       "      <td>...</td>\n",
       "      <td>0</td>\n",
       "      <td>0</td>\n",
       "      <td>2</td>\n",
       "      <td>0</td>\n",
       "      <td>10</td>\n",
       "      <td>0</td>\n",
       "      <td>3</td>\n",
       "      <td>0</td>\n",
       "      <td>4</td>\n",
       "      <td>9</td>\n",
       "    </tr>\n",
       "    <tr>\n",
       "      <th>36210033</th>\n",
       "      <td>0</td>\n",
       "      <td>0</td>\n",
       "      <td>0</td>\n",
       "      <td>59</td>\n",
       "      <td>58</td>\n",
       "      <td>1</td>\n",
       "      <td>0</td>\n",
       "      <td>0</td>\n",
       "      <td>0</td>\n",
       "      <td>111</td>\n",
       "      <td>...</td>\n",
       "      <td>0</td>\n",
       "      <td>0</td>\n",
       "      <td>35</td>\n",
       "      <td>1</td>\n",
       "      <td>4</td>\n",
       "      <td>0</td>\n",
       "      <td>0</td>\n",
       "      <td>0</td>\n",
       "      <td>4</td>\n",
       "      <td>9</td>\n",
       "    </tr>\n",
       "  </tbody>\n",
       "</table>\n",
       "<p>5 rows × 23 columns</p>\n",
       "</div>"
      ],
      "text/plain": [
       "          click  C1  banner_pos  site_id  site_domain  site_category  app_id  \\\n",
       "36210029      0   0           1       86            2              1       0   \n",
       "36210030      0   0           1       86            2              1       0   \n",
       "36210031      0   0           0      128          109              3       0   \n",
       "36210032      0   0           1        5            5              1       0   \n",
       "36210033      0   0           0       59           58              1       0   \n",
       "\n",
       "          app_domain  app_category  device_model    ...      C15  C16  C17  \\\n",
       "36210029           0             0           140    ...        0    0  181   \n",
       "36210030           0             0             7    ...        0    0  181   \n",
       "36210031           0             0            53    ...        0    0   27   \n",
       "36210032           0             0            98    ...        0    0    2   \n",
       "36210033           0             0           111    ...        0    0   35   \n",
       "\n",
       "          C18  C19  C20  C21  hour_hours  hour_weekday  hour_days  \n",
       "36210029    0    0   53   11           0             4          9  \n",
       "36210030    0    0   34   11           0             4          9  \n",
       "36210031    1    1    2    0           0             4          9  \n",
       "36210032    0   10    0    3           0             4          9  \n",
       "36210033    1    4    0    0           0             4          9  \n",
       "\n",
       "[5 rows x 23 columns]"
      ]
     },
     "execution_count": 116,
     "metadata": {},
     "output_type": "execute_result"
    }
   ],
   "source": [
    "test = pd.read_csv(\"D:/Jupyter/w000/train_final/FE_test_26_final.csv\",index_col=0)   #拿200万条数据训练\n",
    "test.drop(['id','hour','user_id'],axis=1,inplace=True)\n",
    "test.head()"
   ]
  },
  {
   "cell_type": "markdown",
   "metadata": {},
   "source": [
    "## Variable Identification"
   ]
  },
  {
   "cell_type": "markdown",
   "metadata": {},
   "source": [
    "选择该数据集是因为的数据特征单一，我们可以在特征工程方面少做些工作，集中精力放在参数调优上"
   ]
  },
  {
   "cell_type": "code",
   "execution_count": 117,
   "metadata": {},
   "outputs": [],
   "source": [
    "y_train = train['click']\n",
    "X_train = train.drop([\"click\"], axis=1)\n",
    "\n",
    "y_valid = valid['click']\n",
    "X_valid = valid.drop([\"click\"], axis=1)\n",
    "\n",
    "y_test = test['click']\n",
    "X_test = test.drop([\"click\"], axis=1)"
   ]
  },
  {
   "cell_type": "markdown",
   "metadata": {},
   "source": [
    "默认参数，此时学习率为0.1，比较大，观察弱分类数目的大致范围\n",
    "（采用默认参数配置，看看模型是过拟合还是欠拟合）"
   ]
  },
  {
   "cell_type": "code",
   "execution_count": 8,
   "metadata": {},
   "outputs": [],
   "source": [
    "#直接调用LightGBM内嵌的交叉验证（cv），可对连续的n_estimators参数进行快速交叉验证\n",
    "#而GridSearchCV只能对有限个参数进行交叉验证\n",
    "import json\n",
    "def modelfit(params, alg, X_train, y_train,early_stopping_rounds=50):\n",
    "    lgbm_params = params.copy()\n",
    "    \n",
    "    lgbmtrain = lgbm.Dataset(X_train, y_train, silent=True,categorical_feature=[0,1,2,3,4,5,6,7,8,9,10,11,12,13,14,15,16,17,18,19,20,21])\n",
    "\n",
    "    \n",
    "    cv_result = lgbm.cv(\n",
    "        lgbm_params, lgbmtrain, num_boost_round=10000, nfold=3, stratified=False, shuffle=True, metrics='binary_logloss',\n",
    "        early_stopping_rounds=early_stopping_rounds,show_stdv=True,seed=0)\n",
    "    # note: cv_results will look like: {\"multi_logloss-mean\": <a list of historical mean>,\n",
    "    # \"multi_logloss-stdv\": <a list of historical standard deviation>}\n",
    "    print('best n_estimators:', len(cv_result['binary_logloss-mean']))\n",
    "    print('best cv logloss:', cv_result['binary_logloss-mean'][-1])\n",
    "    #cv_result.to_csv('lgbm1_nestimators.csv', index_label = 'n_estimators')\n",
    "    json.dump(cv_result, open('lgbm_1.json', 'w'))\n",
    "    #\n",
    "    \n",
    "    # 采用交叉验证得到的最佳参数n_estimators，训练模型\n",
    "    alg.set_params(n_estimators = len(cv_result['binary_logloss-mean']))\n",
    "    alg.fit(X_train, y_train)\n",
    "\n",
    "    y_pred_train = alg.predict_proba(X_train)\n",
    "    logloss = log_loss(y_train, y_pred_train)\n",
    "    print (\"logloss of train :\",logloss )\n",
    "    \n",
    "    y_pred_test = alg.predict_proba(X_test)\n",
    "    logloss = log_loss(y_test, y_pred_test)\n",
    "    print (\"logloss of test :\",logloss )\n"
   ]
  },
  {
   "cell_type": "code",
   "execution_count": 9,
   "metadata": {
    "scrolled": true
   },
   "outputs": [],
   "source": [
    "params = {'boosting_type': 'gbdt', \n",
    "          'objective': 'binary', \n",
    "          'nthread': 6, \n",
    "          #default=OpenMP_default, type=int, alias=num_thread, nthread LightGBM 的线程数\n",
    "          'silent': True,\n",
    "          'learning_rate': 0.1, \n",
    "          'num_leaves': 50, \n",
    "          #num_leaves：叶子数\n",
    "#num_leaves, default=31, type=int, alias=num_leaf一棵树上的叶子数\n",
    "          'max_depth': 6,\n",
    "          'max_bin': 256, \n",
    "          'subsample_for_bin': 200000,#默认200000，用来构建直方图数据数量\n",
    "          'subsample': 0.8, #默认1\n",
    "          #类似于feature_fraction,它将在不进行重采样的情况下\n",
    "          #随机选择部分数据可以用来加速训练可以用来处理过拟合Not\n",
    "          'subsample_freq': 1, \n",
    "          'colsample_bytree': 0.8,       \n",
    "          'reg_alpha': 0,         \n",
    "          'reg_lambda': 0, \n",
    "          'min_split_gain': 0.0, \n",
    "          'min_child_weight': 1,        \n",
    "          'min_child_samples': 100, \n",
    "          'min_data_in_leaf':2000, \n",
    "          #default=20, type=int, alias=min_data_per_leaf , min_data, \n",
    "          #min_child_samples一个叶子上数据的最小数量. 可以用来处理过拟合.\n",
    "        \n",
    "\n",
    "         }"
   ]
  },
  {
   "cell_type": "code",
   "execution_count": 10,
   "metadata": {},
   "outputs": [
    {
     "name": "stderr",
     "output_type": "stream",
     "text": [
      "C:\\Anaconda3\\lib\\site-packages\\lightgbm\\basic.py:1040: UserWarning: Using categorical_feature in Dataset.\n",
      "  warnings.warn('Using categorical_feature in Dataset.')\n",
      "C:\\Anaconda3\\lib\\site-packages\\lightgbm\\basic.py:661: UserWarning: silent keyword has been found in `params` and will be ignored. Please use silent argument of the Dataset constructor to pass this parameter.\n",
      "  'Please use {0} argument of the Dataset constructor to pass this parameter.'.format(key))\n"
     ]
    },
    {
     "name": "stdout",
     "output_type": "stream",
     "text": [
      "best n_estimators: 363\n",
      "best cv logloss: 0.3998200300886134\n",
      "logloss of train : 0.40013086259651365\n",
      "logloss of test : 0.4039739125311909\n",
      "time cost255.63825130462646s\n"
     ]
    }
   ],
   "source": [
    "time_start=time.time()\n",
    "\n",
    "lgbm1 = lgbm.sklearn.LGBMClassifier(n_estimators=1000,seed=0, **params)\n",
    "modelfit(params,lgbm1, X_train, y_train)\n",
    "\n",
    "time_end=time.time()\n",
    "a=time_end - time_start\n",
    "print('time cost'+str(a)+'s')\n"
   ]
  },
  {
   "cell_type": "code",
   "execution_count": 11,
   "metadata": {},
   "outputs": [
    {
     "data": {
      "image/png": "[encoded data removed]",
      "text/plain": [
       "<matplotlib.figure.Figure at 0x2a695050ef0>"
      ]
     },
     "metadata": {},
     "output_type": "display_data"
    }
   ],
   "source": [
    "### cv_result = pd.DataFrame.from_csv('lgbm1_nestimators.csv')\n",
    "cv_result = pd.read_json(\"lgbm_1.json\")\n",
    "\n",
    "# plot\n",
    "test_means = cv_result['binary_logloss-mean']\n",
    "#train_means = cvresult['train-logloss-mean']\n",
    "\n",
    "x_axis = range(0, cv_result.shape[0])\n",
    "pyplot.plot(x_axis, test_means) \n",
    "pyplot.title(\"binary_logloss-mean\")\n",
    "pyplot.xlabel( 'n_estimators' )\n",
    "pyplot.ylabel( 'Log Loss' )\n",
    "pyplot.savefig( 'lgbm1_n_estimators.png')\n",
    "pyplot.show()"
   ]
  },
  {
   "cell_type": "markdown",
   "metadata": {
    "collapsed": true
   },
   "source": [
    "### 2、调整树的层数和叶子节点个数"
   ]
  },
  {
   "cell_type": "code",
   "execution_count": 12,
   "metadata": {},
   "outputs": [
    {
     "data": {
      "text/plain": [
       "{'max_depth': [6, 7, 8], 'num_leaves': [50, 60, 80]}"
      ]
     },
     "execution_count": 12,
     "metadata": {},
     "output_type": "execute_result"
    }
   ],
   "source": [
    "num_leaves=[50,60,80]\n",
    "max_depth=[6,7,8]\n",
    "param_test2_1=dict(num_leaves=num_leaves,max_depth=max_depth)\n",
    "param_test2_1"
   ]
  },
  {
   "cell_type": "code",
   "execution_count": 13,
   "metadata": {},
   "outputs": [
    {
     "name": "stderr",
     "output_type": "stream",
     "text": [
      "C:\\Anaconda3\\lib\\site-packages\\lightgbm\\basic.py:1042: UserWarning: categorical_feature in Dataset is overridden. New categorical_feature is [0, 1, 2, 3, 4, 5, 6, 7, 8, 9, 10, 11, 12, 13, 14, 15, 16, 17, 18, 19, 20, 21]\n",
      "  warnings.warn('categorical_feature in Dataset is overridden. New categorical_feature is {}'.format(sorted(list(categorical_feature))))\n"
     ]
    },
    {
     "data": {
      "text/plain": [
       "GridSearchCV(cv=StratifiedKFold(n_splits=3, random_state=3, shuffle=True),\n",
       "       error_score='raise',\n",
       "       estimator=LGBMClassifier(boosting_type='gbdt', class_weight=None, colsample_bytree=0.8,\n",
       "        learning_rate=0.1, max_bin=363, max_depth=6, min_child_samples=100,\n",
       "        min_child_weight=1, min_split_gain=0.0, n_estimators=365,\n",
       "        n_jobs=-1, nthread=6, num_leaves=50, objective='binary',\n",
       "        random_state=None, reg_alpha=0, reg_lambda=0, scale_pos_weight=1,\n",
       "        seed=0, silent=True, subsample=0.8, subsample_for_bin=200000,\n",
       "        subsample_freq=1),\n",
       "       fit_params=None, iid=True, n_jobs=3,\n",
       "       param_grid={'num_leaves': [50, 60, 80], 'max_depth': [6, 7, 8]},\n",
       "       pre_dispatch='2*n_jobs', refit=True, return_train_score='warn',\n",
       "       scoring='neg_log_loss', verbose=0)"
      ]
     },
     "execution_count": 13,
     "metadata": {},
     "output_type": "execute_result"
    }
   ],
   "source": [
    "kfold = StratifiedKFold(n_splits=3, shuffle=True, random_state=3)\n",
    "\n",
    "params = {'boosting_type': 'gbdt', \n",
    "          'objective': 'binary', \n",
    "          'nthread': 6, \n",
    "          'silent': True,\n",
    "          'learning_rate': 0.1, \n",
    "          'num_leaves': 50, \n",
    "          'max_depth': 6,\n",
    "          'max_bin': 363, \n",
    "          'subsample_for_bin': 200000,#默认200000，用来构建直方图数据数量\n",
    "          'subsample': 0.8, #默认1\n",
    "          'subsample_freq': 1, \n",
    "          'colsample_bytree': 0.8, \n",
    "          'reg_alpha': 0,          \n",
    "          'reg_lambda': 0,  \n",
    "          'min_split_gain': 0.0, \n",
    "          'min_child_weight': 1,         \n",
    "          'min_child_samples': 100, \n",
    "          'scale_pos_weight': 1,\n",
    "         }\n",
    "lgbm2_1=lgbm.sklearn.LGBMClassifier(n_estimators=365,seed=0,**params)\n",
    "gsearch2_1=GridSearchCV(lgbm2_1,param_grid=param_test2_1,scoring='neg_log_loss',n_jobs=3, cv=kfold)\n",
    "\n",
    "\n",
    "gsearch2_1.fit(X_train,y_train,categorical_feature=[0,1,2,3,4,5,6,7,8,9,10,11,12,13,14,15,16,17,18,19,20,21])\n"
   ]
  },
  {
   "cell_type": "code",
   "execution_count": 14,
   "metadata": {
    "scrolled": true
   },
   "outputs": [
    {
     "name": "stdout",
     "output_type": "stream",
     "text": [
      "{'mean_fit_time': array([103.00007288, 132.42437975, 153.99344206, 169.69558167,\n",
      "       172.11771496, 178.8448449 , 177.08994706, 183.67917387,\n",
      "       168.77629352]), 'std_fit_time': array([ 9.30479354, 26.23411794,  3.40672296,  6.32590884,  2.92489557,\n",
      "        3.35738066,  2.24613149,  4.87940454, 18.83478456]), 'mean_score_time': array([21.64225586, 13.17840155, 12.71249477, 14.30360476, 13.93203108,\n",
      "       14.34414442, 14.22060712, 14.85142008, 18.7050755 ]), 'std_score_time': array([6.85382836, 0.66749651, 0.13430911, 0.67895085, 0.47263521,\n",
      "       0.3245092 , 0.25607761, 0.31643679, 4.82394103]), 'param_max_depth': masked_array(data=[6, 6, 6, 7, 7, 7, 8, 8, 8],\n",
      "             mask=[False, False, False, False, False, False, False, False,\n",
      "                   False],\n",
      "       fill_value='?',\n",
      "            dtype=object), 'param_num_leaves': masked_array(data=[50, 60, 80, 50, 60, 80, 50, 60, 80],\n",
      "             mask=[False, False, False, False, False, False, False, False,\n",
      "                   False],\n",
      "       fill_value='?',\n",
      "            dtype=object), 'params': [{'max_depth': 6, 'num_leaves': 50}, {'max_depth': 6, 'num_leaves': 60}, {'max_depth': 6, 'num_leaves': 80}, {'max_depth': 7, 'num_leaves': 50}, {'max_depth': 7, 'num_leaves': 60}, {'max_depth': 7, 'num_leaves': 80}, {'max_depth': 8, 'num_leaves': 50}, {'max_depth': 8, 'num_leaves': 60}, {'max_depth': 8, 'num_leaves': 80}], 'split0_test_score': array([-0.39972166, -0.39965311, -0.39971417, -0.39958501, -0.39958986,\n",
      "       -0.39969027, -0.39955242, -0.39961145, -0.39965136]), 'split1_test_score': array([-0.39964054, -0.39979181, -0.39969156, -0.39955184, -0.39957714,\n",
      "       -0.39965204, -0.39948155, -0.39947828, -0.39969074]), 'split2_test_score': array([-0.39953739, -0.39954156, -0.39954432, -0.39944938, -0.39941897,\n",
      "       -0.39953974, -0.39942667, -0.3993762 , -0.39953964]), 'mean_test_score': array([-0.3996332 , -0.39966216, -0.39965002, -0.39952874, -0.39952866,\n",
      "       -0.39962735, -0.39948688, -0.39948865, -0.39962725]), 'std_test_score': array([7.54089031e-05, 1.02363007e-04, 7.53052901e-05, 5.77291081e-05,\n",
      "       7.77337214e-05, 6.38872297e-05, 5.14733380e-05, 9.63205894e-05,\n",
      "       6.39994369e-05]), 'rank_test_score': array([7, 9, 8, 4, 3, 6, 1, 2, 5]), 'split0_train_score': array([-0.39122959, -0.39089943, -0.39088469, -0.38988339, -0.38894818,\n",
      "       -0.38774804, -0.38918096, -0.38796903, -0.38622647]), 'split1_train_score': array([-0.39115512, -0.39091266, -0.39082423, -0.38984748, -0.38893027,\n",
      "       -0.38758383, -0.38919688, -0.38791591, -0.38609445]), 'split2_train_score': array([-0.39115964, -0.39078501, -0.39073748, -0.38988838, -0.38882565,\n",
      "       -0.3877267 , -0.38924834, -0.38807613, -0.38619787]), 'mean_train_score': array([-0.39118145, -0.3908657 , -0.39081547, -0.38987308, -0.38890137,\n",
      "       -0.38768619, -0.38920873, -0.38798702, -0.38617293]), 'std_train_score': array([3.40930111e-05, 5.73110695e-05, 6.04176392e-05, 1.82189177e-05,\n",
      "       5.40372536e-05, 7.29035759e-05, 2.87571475e-05, 6.66377234e-05,\n",
      "       5.67103938e-05])}\n",
      "-0.3994868801062272\n",
      "logloss of train : 0.39142793253288627\n",
      "logloss of test : 0.4031091261846167\n"
     ]
    }
   ],
   "source": [
    "print(gsearch2_1.cv_results_)\n",
    "print(gsearch2_1.best_score_)\n",
    "\n",
    "y_pred_train = gsearch2_1.predict_proba(X_train)\n",
    "logloss = log_loss(y_train, y_pred_train)\n",
    "print (\"logloss of train :\",logloss )\n",
    "\n",
    "y_pred_test = gsearch2_1.predict_proba(X_test)\n",
    "logloss = log_loss(y_test, y_pred_test)\n",
    "print (\"logloss of test :\",logloss )"
   ]
  },
  {
   "cell_type": "code",
   "execution_count": 81,
   "metadata": {
    "scrolled": true
   },
   "outputs": [
    {
     "name": "stdout",
     "output_type": "stream",
     "text": [
      "Best: -0.399487 using {'max_depth': 8, 'num_leaves': 50}\n"
     ]
    },
    {
     "name": "stderr",
     "output_type": "stream",
     "text": [
      "C:\\Anaconda3\\lib\\site-packages\\sklearn\\utils\\deprecation.py:122: FutureWarning: You are accessing a training score ('mean_train_score'), which will not be available by default any more in 0.21. If you need training scores, please set return_train_score=True\n",
      "  warnings.warn(*warn_args, **warn_kwargs)\n",
      "C:\\Anaconda3\\lib\\site-packages\\sklearn\\utils\\deprecation.py:122: FutureWarning: You are accessing a training score ('std_train_score'), which will not be available by default any more in 0.21. If you need training scores, please set return_train_score=True\n",
      "  warnings.warn(*warn_args, **warn_kwargs)\n",
      "C:\\Anaconda3\\lib\\site-packages\\sklearn\\utils\\deprecation.py:122: FutureWarning: You are accessing a training score ('split0_train_score'), which will not be available by default any more in 0.21. If you need training scores, please set return_train_score=True\n",
      "  warnings.warn(*warn_args, **warn_kwargs)\n",
      "C:\\Anaconda3\\lib\\site-packages\\sklearn\\utils\\deprecation.py:122: FutureWarning: You are accessing a training score ('split1_train_score'), which will not be available by default any more in 0.21. If you need training scores, please set return_train_score=True\n",
      "  warnings.warn(*warn_args, **warn_kwargs)\n",
      "C:\\Anaconda3\\lib\\site-packages\\sklearn\\utils\\deprecation.py:122: FutureWarning: You are accessing a training score ('split2_train_score'), which will not be available by default any more in 0.21. If you need training scores, please set return_train_score=True\n",
      "  warnings.warn(*warn_args, **warn_kwargs)\n"
     ]
    },
    {
     "data": {
      "image/png": "[encoded data removed]",
      "text/plain": [
       "<matplotlib.figure.Figure at 0x2a6b6ee8c18>"
      ]
     },
     "metadata": {},
     "output_type": "display_data"
    }
   ],
   "source": [
    "# summarize results\n",
    "print(\"Best: %f using %s\" % (gsearch2_1.best_score_, gsearch2_1.best_params_))\n",
    "test_means = gsearch2_1.cv_results_[ 'mean_test_score' ]\n",
    "test_stds = gsearch2_1.cv_results_[ 'std_test_score' ]\n",
    "train_means = gsearch2_1.cv_results_[ 'mean_train_score' ]\n",
    "train_stds = gsearch2_1.cv_results_[ 'std_train_score' ]\n",
    "\n",
    "\n",
    "pd.DataFrame(gsearch2_1.cv_results_).to_csv('my_preds_maxdepth_min_child_weights_1.csv')\n",
    "\n",
    "# plot results\n",
    "test_scores = np.array(test_means).reshape(len(max_depth), len(num_leaves))\n",
    "train_scores = np.array(train_means).reshape(len(max_depth), len(num_leaves))\n",
    "\n",
    "for i, value in enumerate(max_depth):\n",
    "#    pyplot.plot(num_leaves, -test_scores[i], label= 'valid_max_depth:'   + str(value))\n",
    "    pyplot.plot(num_leaves, -train_scores[i], label= 'train_max_depth:'   + str(value))\n",
    "    \n",
    "pyplot.legend()\n",
    "pyplot.xlabel( 'num_leaves' )                                                                                                      \n",
    "pyplot.ylabel( 'Log Loss' )\n",
    "pyplot.savefig('max_depth_vs_min_child_weght_1.png' )"
   ]
  },
  {
   "cell_type": "markdown",
   "metadata": {},
   "source": [
    "### 3、调整叶子节点数目正则系数和叶子节点分数正则系数"
   ]
  },
  {
   "cell_type": "code",
   "execution_count": 32,
   "metadata": {},
   "outputs": [
    {
     "data": {
      "text/plain": [
       "{'reg_alpha': [0.4, 0.6, 0.8], 'reg_lambda': [0.2, 0.25, 0.3]}"
      ]
     },
     "execution_count": 32,
     "metadata": {},
     "output_type": "execute_result"
    }
   ],
   "source": [
    "reg_alpha=[0.4,0.6,0.8]\n",
    "reg_lambda=[0.2,0.25,0.3]\n",
    "param_2=dict(reg_alpha=reg_alpha,reg_lambda=reg_lambda)\n",
    "param_2"
   ]
  },
  {
   "cell_type": "code",
   "execution_count": 33,
   "metadata": {},
   "outputs": [
    {
     "data": {
      "text/plain": [
       "GridSearchCV(cv=StratifiedKFold(n_splits=3, random_state=3, shuffle=True),\n",
       "       error_score='raise',\n",
       "       estimator=LGBMClassifier(boosting_type='gbdt', class_weight=None, colsample_bytree=0.8,\n",
       "        learning_rate=0.1, max_bin=256, max_depth=8, min_child_samples=20,\n",
       "        min_child_weight=1, min_split_gain=0.0, n_estimators=363,\n",
       "        n_jobs=-1, nthread=6, num_leaves=50, objective='binary',\n",
       "        random_state=None, reg_alpha=0, reg_lambda=0, scale_pos_weight=1,\n",
       "        seed=0, silent=True, subsample=0.8, subsample_for_bin=200000,\n",
       "        subsample_freq=1),\n",
       "       fit_params=None, iid=True, n_jobs=6,\n",
       "       param_grid={'reg_alpha': [0.4, 0.6, 0.8], 'reg_lambda': [0.2, 0.25, 0.3]},\n",
       "       pre_dispatch='2*n_jobs', refit=True, return_train_score='warn',\n",
       "       scoring='neg_log_loss', verbose=0)"
      ]
     },
     "execution_count": 33,
     "metadata": {},
     "output_type": "execute_result"
    }
   ],
   "source": [
    "kfold = StratifiedKFold(n_splits=3, shuffle=True, random_state=3)\n",
    "\n",
    "params = {'boosting_type': 'gbdt', \n",
    "          'objective': 'binary', \n",
    "          'nthread': 6, \n",
    "          'silent': True,\n",
    "          'learning_rate': 0.1, \n",
    "          'num_leaves': 50, \n",
    "          'max_depth': 8,\n",
    "          'max_bin': 256, \n",
    "          'subsample_for_bin': 200000,#默认200000，用来构建直方图数据数量\n",
    "          'subsample': 0.8, #默认1\n",
    "          'subsample_freq': 1, \n",
    "          'colsample_bytree': 0.8, \n",
    "          'reg_alpha': 0,          \n",
    "          'reg_lambda': 0,  \n",
    "          'min_split_gain': 0.0, \n",
    "          'min_child_weight': 1,         \n",
    "          'min_child_samples': 20, \n",
    "          'scale_pos_weight': 1,\n",
    "         }\n",
    "lgbm_2=lgbm.sklearn.LGBMClassifier(n_estimators=363,seed=0,**params)\n",
    "gsearch2_2=GridSearchCV(lgbm_2,param_grid=param_2,scoring='neg_log_loss',n_jobs=6, cv=kfold)\n",
    "gsearch2_2.fit(X_train,y_train)\n"
   ]
  },
  {
   "cell_type": "code",
   "execution_count": 34,
   "metadata": {
    "scrolled": true
   },
   "outputs": [
    {
     "name": "stdout",
     "output_type": "stream",
     "text": [
      "{'mean_fit_time': array([199.43567896, 230.59458598, 250.3221283 , 280.27625195,\n",
      "       275.80514717, 282.68814778, 277.69193602, 280.82961917,\n",
      "       175.63436182]), 'std_fit_time': array([ 9.87744887, 15.30693881,  7.08267799, 29.03009709,  8.49832812,\n",
      "       22.29968038,  7.62978159, 16.3946438 , 37.76137706]), 'mean_score_time': array([22.02594384, 37.66689809, 17.88282228, 17.94125414, 17.45678576,\n",
      "       18.41700625, 17.29101022, 18.44040386, 15.82778406]), 'std_score_time': array([5.78018803, 5.05956246, 0.40386711, 5.37539628, 1.45118404,\n",
      "       6.34880233, 0.73238113, 7.0913777 , 4.08753164]), 'param_reg_alpha': masked_array(data=[0.4, 0.4, 0.4, 0.6, 0.6, 0.6, 0.8, 0.8, 0.8],\n",
      "             mask=[False, False, False, False, False, False, False, False,\n",
      "                   False],\n",
      "       fill_value='?',\n",
      "            dtype=object), 'param_reg_lambda': masked_array(data=[0.2, 0.25, 0.3, 0.2, 0.25, 0.3, 0.2, 0.25, 0.3],\n",
      "             mask=[False, False, False, False, False, False, False, False,\n",
      "                   False],\n",
      "       fill_value='?',\n",
      "            dtype=object), 'params': [{'reg_alpha': 0.4, 'reg_lambda': 0.2}, {'reg_alpha': 0.4, 'reg_lambda': 0.25}, {'reg_alpha': 0.4, 'reg_lambda': 0.3}, {'reg_alpha': 0.6, 'reg_lambda': 0.2}, {'reg_alpha': 0.6, 'reg_lambda': 0.25}, {'reg_alpha': 0.6, 'reg_lambda': 0.3}, {'reg_alpha': 0.8, 'reg_lambda': 0.2}, {'reg_alpha': 0.8, 'reg_lambda': 0.25}, {'reg_alpha': 0.8, 'reg_lambda': 0.3}], 'split0_test_score': array([-0.39984656, -0.39978411, -0.39986698, -0.39981514, -0.399825  ,\n",
      "       -0.39979179, -0.39973647, -0.39969969, -0.39970353]), 'split1_test_score': array([-0.39989182, -0.39986568, -0.39991809, -0.39981704, -0.39985204,\n",
      "       -0.3998739 , -0.3998554 , -0.39985465, -0.39986746]), 'split2_test_score': array([-0.39968158, -0.39974506, -0.39969229, -0.39970101, -0.39976896,\n",
      "       -0.39974087, -0.39969531, -0.39966234, -0.39970319]), 'mean_test_score': array([-0.39980665, -0.39979828, -0.39982579, -0.39977773, -0.39981534,\n",
      "       -0.39980219, -0.39976239, -0.39973889, -0.39975806]), 'std_test_score': array([9.03499856e-05, 5.02542877e-05, 9.66737295e-05, 5.42536719e-05,\n",
      "       3.45990315e-05, 5.48042453e-05, 6.78780831e-05, 8.32585566e-05,\n",
      "       7.73591385e-05]), 'rank_test_score': array([7, 5, 9, 4, 8, 6, 3, 1, 2]), 'split0_train_score': array([-0.39759313, -0.39752962, -0.39761232, -0.39756882, -0.39758687,\n",
      "       -0.39754199, -0.39751379, -0.3975134 , -0.39751694]), 'split1_train_score': array([-0.39747535, -0.3974704 , -0.3975111 , -0.39744537, -0.39747674,\n",
      "       -0.3975189 , -0.39746547, -0.3974886 , -0.39748451]), 'split2_train_score': array([-0.39749971, -0.39757013, -0.39748671, -0.39751549, -0.39755614,\n",
      "       -0.39753104, -0.39753309, -0.39753379, -0.39754296]), 'mean_train_score': array([-0.39752273, -0.39752338, -0.39753671, -0.39750989, -0.39753992,\n",
      "       -0.39753064, -0.39750412, -0.39751193, -0.3975148 ]), 'std_train_score': array([5.07649422e-05, 4.09544637e-05, 5.43850248e-05, 5.05543382e-05,\n",
      "       4.63983087e-05, 9.42845255e-06, 2.84421157e-05, 1.84780309e-05,\n",
      "       2.39096863e-05])}\n",
      "-0.3997388919872223\n",
      "logloss of train : 0.398003298291121\n",
      "logloss of test : 0.40286772938280563\n"
     ]
    }
   ],
   "source": [
    "print(gsearch2_2.cv_results_)\n",
    "print(gsearch2_2.best_score_)\n",
    "y_pred_train = gsearch2_2.predict_proba(X_train)\n",
    "logloss = log_loss(y_train, y_pred_train)\n",
    "print (\"logloss of train :\",logloss )\n",
    "\n",
    "y_pred_test = gsearch2_2.predict_proba(X_test)\n",
    "logloss = log_loss(y_test, y_pred_test)\n",
    "print (\"logloss of test :\",logloss )"
   ]
  },
  {
   "cell_type": "code",
   "execution_count": 80,
   "metadata": {},
   "outputs": [
    {
     "name": "stdout",
     "output_type": "stream",
     "text": [
      "Best: -0.399772 using {'colsample_bytree': 0.8, 'subsample': 0.8}\n"
     ]
    },
    {
     "name": "stderr",
     "output_type": "stream",
     "text": [
      "C:\\Anaconda3\\lib\\site-packages\\sklearn\\utils\\deprecation.py:122: FutureWarning: You are accessing a training score ('mean_train_score'), which will not be available by default any more in 0.21. If you need training scores, please set return_train_score=True\n",
      "  warnings.warn(*warn_args, **warn_kwargs)\n",
      "C:\\Anaconda3\\lib\\site-packages\\sklearn\\utils\\deprecation.py:122: FutureWarning: You are accessing a training score ('std_train_score'), which will not be available by default any more in 0.21. If you need training scores, please set return_train_score=True\n",
      "  warnings.warn(*warn_args, **warn_kwargs)\n",
      "C:\\Anaconda3\\lib\\site-packages\\sklearn\\utils\\deprecation.py:122: FutureWarning: You are accessing a training score ('split0_train_score'), which will not be available by default any more in 0.21. If you need training scores, please set return_train_score=True\n",
      "  warnings.warn(*warn_args, **warn_kwargs)\n",
      "C:\\Anaconda3\\lib\\site-packages\\sklearn\\utils\\deprecation.py:122: FutureWarning: You are accessing a training score ('split1_train_score'), which will not be available by default any more in 0.21. If you need training scores, please set return_train_score=True\n",
      "  warnings.warn(*warn_args, **warn_kwargs)\n",
      "C:\\Anaconda3\\lib\\site-packages\\sklearn\\utils\\deprecation.py:122: FutureWarning: You are accessing a training score ('split2_train_score'), which will not be available by default any more in 0.21. If you need training scores, please set return_train_score=True\n",
      "  warnings.warn(*warn_args, **warn_kwargs)\n"
     ]
    },
    {
     "data": {
      "image/png": "[encoded data removed]",
      "text/plain": [
       "<matplotlib.figure.Figure at 0x2a6d784ff28>"
      ]
     },
     "metadata": {},
     "output_type": "display_data"
    }
   ],
   "source": [
    "# summarize results\n",
    "print(\"Best: %f using %s\" % (gsearch2_2.best_score_, gsearch2_2.best_params_))\n",
    "test_means = gsearch2_2.cv_results_[ 'mean_test_score' ]\n",
    "test_stds = gsearch2_2.cv_results_[ 'std_test_score' ]\n",
    "train_means = gsearch2_2.cv_results_[ 'mean_train_score' ]\n",
    "train_stds = gsearch2_2.cv_results_[ 'std_train_score' ]\n",
    "\n",
    "\n",
    "pd.DataFrame(gsearch2_2.cv_results_).to_csv('my_preds_maxdepth_min_child_weights_1.csv')\n",
    "\n",
    "# plot results\n",
    "test_scores = np.array(test_means).reshape(len(reg_alpha), len(reg_lambda))\n",
    "train_scores = np.array(train_means).reshape(len(reg_alpha), len(reg_lambda))\n",
    "\n",
    "for i, value in enumerate(reg_alpha):\n",
    "#    pyplot.plot(reg_lambda, -test_scores[i], label= 'valid_reg_alpha:'   + str(value))\n",
    "    pyplot.plot(reg_lambda, -train_scores[i], label= 'train_reg_alpha:'   + str(value))\n",
    "\n",
    "    \n",
    "pyplot.legend()\n",
    "pyplot.xlabel( 'lambda' )                                                                                                      \n",
    "pyplot.ylabel( 'Log Loss' )\n",
    "pyplot.savefig('max_depth_vs_min_child_weght_1.png' )"
   ]
  },
  {
   "cell_type": "markdown",
   "metadata": {},
   "source": [
    "### 3.1单独对叶子节点数目正则系数进行调优"
   ]
  },
  {
   "cell_type": "code",
   "execution_count": 36,
   "metadata": {},
   "outputs": [
    {
     "data": {
      "text/plain": [
       "{'reg_alpha': [0.8, 1, 2]}"
      ]
     },
     "execution_count": 36,
     "metadata": {},
     "output_type": "execute_result"
    }
   ],
   "source": [
    "reg_alpha=[0.8,1,2]\n",
    "param_2=dict(reg_alpha=reg_alpha)\n",
    "param_2"
   ]
  },
  {
   "cell_type": "code",
   "execution_count": 37,
   "metadata": {},
   "outputs": [
    {
     "data": {
      "text/plain": [
       "GridSearchCV(cv=StratifiedKFold(n_splits=3, random_state=3, shuffle=True),\n",
       "       error_score='raise',\n",
       "       estimator=LGBMClassifier(boosting_type='gbdt', class_weight=None, colsample_bytree=0.8,\n",
       "        learning_rate=0.1, max_bin=256, max_depth=8, min_child_samples=20,\n",
       "        min_child_weight=1, min_split_gain=0.0, n_estimators=363,\n",
       "        n_jobs=-1, nthread=6, num_leaves=50, objective='binary',\n",
       "        random_state=None, reg_alpha=0, reg_lambda=0.25,\n",
       "        scale_pos_weight=1, seed=0, silent=True, subsample=0.8,\n",
       "        subsample_for_bin=200000, subsample_freq=1),\n",
       "       fit_params=None, iid=True, n_jobs=6,\n",
       "       param_grid={'reg_alpha': [0.8, 1, 2]}, pre_dispatch='2*n_jobs',\n",
       "       refit=True, return_train_score='warn', scoring='neg_log_loss',\n",
       "       verbose=0)"
      ]
     },
     "execution_count": 37,
     "metadata": {},
     "output_type": "execute_result"
    }
   ],
   "source": [
    "kfold = StratifiedKFold(n_splits=3, shuffle=True, random_state=3)\n",
    "\n",
    "params = {'boosting_type': 'gbdt', \n",
    "          'objective': 'binary', \n",
    "          'nthread': 6, \n",
    "          'silent': True,\n",
    "          'learning_rate': 0.1, \n",
    "          'num_leaves': 50, \n",
    "          'max_depth': 8,\n",
    "          'max_bin': 256, \n",
    "          'subsample_for_bin': 200000,#默认200000，用来构建直方图数据数量\n",
    "          'subsample': 0.8, #默认1\n",
    "          'subsample_freq': 1, \n",
    "          'colsample_bytree': 0.8, \n",
    "          'reg_alpha': 0,          \n",
    "          'reg_lambda': 0.25,  \n",
    "          'min_split_gain': 0.0, \n",
    "          'min_child_weight': 1,         \n",
    "          'min_child_samples': 20, \n",
    "          'scale_pos_weight': 1,\n",
    "         }\n",
    "lgbm_2=lgbm.sklearn.LGBMClassifier(n_estimators=363,seed=0,**params)\n",
    "gsearch2_2=GridSearchCV(lgbm_2,param_grid=param_2,scoring='neg_log_loss',n_jobs=6, cv=kfold)\n",
    "gsearch2_2.fit(X_train,y_train)"
   ]
  },
  {
   "cell_type": "code",
   "execution_count": 38,
   "metadata": {},
   "outputs": [
    {
     "name": "stdout",
     "output_type": "stream",
     "text": [
      "{'mean_fit_time': array([192.56691368, 210.63699794, 128.29238534]), 'std_fit_time': array([ 0.89683706,  1.19999609, 17.03277942]), 'mean_score_time': array([22.24953945, 40.66610765, 10.79338749]), 'std_score_time': array([0.18408786, 1.11089391, 1.50064434]), 'param_reg_alpha': masked_array(data=[0.8, 1, 2],\n",
      "             mask=[False, False, False],\n",
      "       fill_value='?',\n",
      "            dtype=object), 'params': [{'reg_alpha': 0.8}, {'reg_alpha': 1}, {'reg_alpha': 2}], 'split0_test_score': array([-0.39969969, -0.39979197, -0.39975447]), 'split1_test_score': array([-0.39985465, -0.39986001, -0.39987836]), 'split2_test_score': array([-0.39966234, -0.3996646 , -0.399669  ]), 'mean_test_score': array([-0.39973889, -0.39977219, -0.39976728]), 'std_test_score': array([8.32585566e-05, 8.09930858e-05, 8.59488165e-05]), 'rank_test_score': array([1, 3, 2]), 'split0_train_score': array([-0.3975134 , -0.39758671, -0.39761494]), 'split1_train_score': array([-0.3974886 , -0.39750719, -0.39758626]), 'split2_train_score': array([-0.39753379, -0.39751002, -0.39761325]), 'mean_train_score': array([-0.39751193, -0.39753464, -0.39760481]), 'std_train_score': array([1.84780309e-05, 3.68397644e-05, 1.31402038e-05])}\n",
      "-0.3997388919872223\n",
      "logloss of train : 0.398003298291121\n",
      "logloss of test : 0.40286772938280563\n"
     ]
    }
   ],
   "source": [
    "print(gsearch2_2.cv_results_)\n",
    "print(gsearch2_2.best_score_)\n",
    "y_pred_train = gsearch2_2.predict_proba(X_train)\n",
    "logloss = log_loss(y_train, y_pred_train)\n",
    "print (\"logloss of train :\",logloss )\n",
    "\n",
    "y_pred_test = gsearch2_2.predict_proba(X_test)\n",
    "logloss = log_loss(y_test, y_pred_test)\n",
    "print (\"logloss of test :\",logloss )"
   ]
  },
  {
   "cell_type": "code",
   "execution_count": 43,
   "metadata": {},
   "outputs": [
    {
     "data": {
      "text/plain": [
       "[0.8, 1, 2]"
      ]
     },
     "execution_count": 43,
     "metadata": {},
     "output_type": "execute_result"
    }
   ],
   "source": [
    "reg_alpha"
   ]
  },
  {
   "cell_type": "code",
   "execution_count": 44,
   "metadata": {},
   "outputs": [
    {
     "data": {
      "text/plain": [
       "array([-0.39973889, -0.39977219, -0.39976728])"
      ]
     },
     "execution_count": 44,
     "metadata": {},
     "output_type": "execute_result"
    }
   ],
   "source": [
    "test_scores"
   ]
  },
  {
   "cell_type": "code",
   "execution_count": 77,
   "metadata": {},
   "outputs": [
    {
     "data": {
      "text/plain": [
       "[<matplotlib.lines.Line2D at 0x2a6bd40d978>]"
      ]
     },
     "execution_count": 77,
     "metadata": {},
     "output_type": "execute_result"
    },
    {
     "data": {
      "image/png": "[encoded data removed]",
      "text/plain": [
       "<matplotlib.figure.Figure at 0x2a6c2771780>"
      ]
     },
     "metadata": {},
     "output_type": "display_data"
    }
   ],
   "source": [
    "pyplot.plot([0.8, 1, 2],[-0.39973, -0.39979, -0.39979])"
   ]
  },
  {
   "cell_type": "code",
   "execution_count": 46,
   "metadata": {},
   "outputs": [
    {
     "name": "stdout",
     "output_type": "stream",
     "text": [
      "Best: -0.399739 using {'reg_alpha': 0.8}\n"
     ]
    },
    {
     "name": "stderr",
     "output_type": "stream",
     "text": [
      "C:\\Anaconda3\\lib\\site-packages\\sklearn\\utils\\deprecation.py:122: FutureWarning: You are accessing a training score ('mean_train_score'), which will not be available by default any more in 0.21. If you need training scores, please set return_train_score=True\n",
      "  warnings.warn(*warn_args, **warn_kwargs)\n",
      "C:\\Anaconda3\\lib\\site-packages\\sklearn\\utils\\deprecation.py:122: FutureWarning: You are accessing a training score ('std_train_score'), which will not be available by default any more in 0.21. If you need training scores, please set return_train_score=True\n",
      "  warnings.warn(*warn_args, **warn_kwargs)\n",
      "C:\\Anaconda3\\lib\\site-packages\\sklearn\\utils\\deprecation.py:122: FutureWarning: You are accessing a training score ('split0_train_score'), which will not be available by default any more in 0.21. If you need training scores, please set return_train_score=True\n",
      "  warnings.warn(*warn_args, **warn_kwargs)\n",
      "C:\\Anaconda3\\lib\\site-packages\\sklearn\\utils\\deprecation.py:122: FutureWarning: You are accessing a training score ('split1_train_score'), which will not be available by default any more in 0.21. If you need training scores, please set return_train_score=True\n",
      "  warnings.warn(*warn_args, **warn_kwargs)\n",
      "C:\\Anaconda3\\lib\\site-packages\\sklearn\\utils\\deprecation.py:122: FutureWarning: You are accessing a training score ('split2_train_score'), which will not be available by default any more in 0.21. If you need training scores, please set return_train_score=True\n",
      "  warnings.warn(*warn_args, **warn_kwargs)\n"
     ]
    },
    {
     "data": {
      "image/png": "[encoded data removed]",
      "text/plain": [
       "<matplotlib.figure.Figure at 0x2a6c9dc6eb8>"
      ]
     },
     "metadata": {},
     "output_type": "display_data"
    }
   ],
   "source": [
    "# summarize results\n",
    "print(\"Best: %f using %s\" % (gsearch2_2.best_score_, gsearch2_2.best_params_))\n",
    "test_means = gsearch2_2.cv_results_[ 'mean_test_score' ]\n",
    "test_stds = gsearch2_2.cv_results_[ 'std_test_score' ]\n",
    "train_means = gsearch2_2.cv_results_[ 'mean_train_score' ]\n",
    "train_stds = gsearch2_2.cv_results_[ 'std_train_score' ]\n",
    "\n",
    "\n",
    "pd.DataFrame(gsearch2_2.cv_results_).to_csv('my_preds_maxdepth_min_child_weights_1.csv')\n",
    "\n",
    "# plot results\n",
    "test_scores = np.array(test_means)\n",
    "train_scores = np.array(train_means)\n",
    "\n",
    "\n",
    "pyplot.plot(reg_alpha, test_scores, label= 'reg_alpha:' )\n",
    "#    pyplot.plot(reg_lambda, -train_scores[i], label= 'train_reg_alpha:'   + str(value))\n",
    "\n",
    "    \n",
    "#pyplot.legend()\n",
    "pyplot.xlabel( 'lambda' )                                                                                                      \n",
    "pyplot.ylabel( 'Log Loss' )\n",
    "pyplot.savefig('max_depth_vs_min_child_weght_1.png' )"
   ]
  },
  {
   "cell_type": "markdown",
   "metadata": {},
   "source": [
    "### 4、调整行采样和列采样的比例"
   ]
  },
  {
   "cell_type": "code",
   "execution_count": 78,
   "metadata": {},
   "outputs": [
    {
     "data": {
      "text/plain": [
       "{'colsample_bytree': [0.4, 0.6, 0.8], 'subsample': [0.4, 0.6, 0.8]}"
      ]
     },
     "execution_count": 78,
     "metadata": {},
     "output_type": "execute_result"
    }
   ],
   "source": [
    "subsample=[0.4,0.6,0.8]\n",
    "colsample_bytree=[0.4,0.6,0.8]\n",
    "param_4=dict(subsample=subsample,colsample_bytree=colsample_bytree)\n",
    "param_4"
   ]
  },
  {
   "cell_type": "code",
   "execution_count": 79,
   "metadata": {},
   "outputs": [
    {
     "data": {
      "text/plain": [
       "GridSearchCV(cv=StratifiedKFold(n_splits=3, random_state=3, shuffle=True),\n",
       "       error_score='raise',\n",
       "       estimator=LGBMClassifier(boosting_type='gbdt', class_weight=None, colsample_bytree=0.8,\n",
       "        learning_rate=0.1, max_bin=256, max_depth=8, min_child_samples=20,\n",
       "        min_child_weight=1, min_split_gain=0.0, n_estimators=363,\n",
       "        n_jobs=-1, nthread=6, num_leaves=50, objective='binary',\n",
       "        random_state=None, reg_alpha=1, reg_lambda=0.25,\n",
       "        scale_pos_weight=1, seed=0, silent=True, subsample=0.8,\n",
       "        subsample_for_bin=200000, subsample_freq=1),\n",
       "       fit_params=None, iid=True, n_jobs=6,\n",
       "       param_grid={'subsample': [0.4, 0.6, 0.8], 'colsample_bytree': [0.4, 0.6, 0.8]},\n",
       "       pre_dispatch='2*n_jobs', refit=True, return_train_score='warn',\n",
       "       scoring='neg_log_loss', verbose=0)"
      ]
     },
     "execution_count": 79,
     "metadata": {},
     "output_type": "execute_result"
    }
   ],
   "source": [
    "kfold = StratifiedKFold(n_splits=3, shuffle=True, random_state=3)\n",
    "\n",
    "params = {'boosting_type': 'gbdt', \n",
    "          'objective': 'binary', \n",
    "          'nthread': 6, \n",
    "          'silent': True,\n",
    "          'learning_rate': 0.1, \n",
    "          'num_leaves': 50, \n",
    "          'max_depth': 8,\n",
    "          'max_bin': 256, \n",
    "          'subsample_for_bin': 200000,#默认200000，用来构建直方图数据数量\n",
    "          'subsample': 0.8, #默认1\n",
    "          'subsample_freq': 1, \n",
    "          'colsample_bytree': 0.8, \n",
    "          'reg_alpha': 0.8,          \n",
    "          'reg_lambda': 0.25,  \n",
    "          'min_split_gain': 0.0, \n",
    "          'min_child_weight': 1,         \n",
    "          'min_child_samples': 20, \n",
    "          'scale_pos_weight': 1,\n",
    "         }\n",
    "lgbm_2=lgbm.sklearn.LGBMClassifier(n_estimators=363,seed=0,**params)\n",
    "gsearch2_2=GridSearchCV(lgbm_2,param_grid=param_4,scoring='neg_log_loss',n_jobs=6, cv=kfold)\n",
    "gsearch2_2.fit(X_train,y_train)"
   ]
  },
  {
   "cell_type": "code",
   "execution_count": 82,
   "metadata": {
    "scrolled": true
   },
   "outputs": [
    {
     "name": "stdout",
     "output_type": "stream",
     "text": [
      "{'mean_fit_time': array([180.55394785, 258.98511044, 322.12442772, 235.97703187,\n",
      "       278.56989423, 292.47091881, 276.41089598, 307.3526427 ,\n",
      "       218.56975738]), 'std_fit_time': array([29.38156317,  1.31334741, 56.59163823, 27.07649671,  4.13636249,\n",
      "        8.15903006,  5.15506652,  2.69134724,  9.31214205]), 'mean_score_time': array([17.05652157, 27.34910909, 13.43893059, 16.893068  , 12.68542147,\n",
      "       13.15065996, 12.9688789 , 10.14399298, 11.82179101]), 'std_score_time': array([3.27383635, 2.09634619, 2.88690092, 3.41404907, 3.74451919,\n",
      "       4.11921628, 3.32409405, 0.29615581, 3.64243551]), 'param_colsample_bytree': masked_array(data=[0.4, 0.4, 0.4, 0.6, 0.6, 0.6, 0.8, 0.8, 0.8],\n",
      "             mask=[False, False, False, False, False, False, False, False,\n",
      "                   False],\n",
      "       fill_value='?',\n",
      "            dtype=object), 'param_subsample': masked_array(data=[0.4, 0.6, 0.8, 0.4, 0.6, 0.8, 0.4, 0.6, 0.8],\n",
      "             mask=[False, False, False, False, False, False, False, False,\n",
      "                   False],\n",
      "       fill_value='?',\n",
      "            dtype=object), 'params': [{'colsample_bytree': 0.4, 'subsample': 0.4}, {'colsample_bytree': 0.4, 'subsample': 0.6}, {'colsample_bytree': 0.4, 'subsample': 0.8}, {'colsample_bytree': 0.6, 'subsample': 0.4}, {'colsample_bytree': 0.6, 'subsample': 0.6}, {'colsample_bytree': 0.6, 'subsample': 0.8}, {'colsample_bytree': 0.8, 'subsample': 0.4}, {'colsample_bytree': 0.8, 'subsample': 0.6}, {'colsample_bytree': 0.8, 'subsample': 0.8}], 'split0_test_score': array([-0.40017132, -0.40006799, -0.39997053, -0.40003389, -0.39983567,\n",
      "       -0.3997434 , -0.40001164, -0.3997918 , -0.39979197]), 'split1_test_score': array([-0.40035512, -0.40018436, -0.40016729, -0.40011153, -0.39987701,\n",
      "       -0.3998872 , -0.40002578, -0.39981984, -0.39986001]), 'split2_test_score': array([-0.40019261, -0.40004518, -0.40001364, -0.39996625, -0.39973484,\n",
      "       -0.39970693, -0.39994091, -0.39973835, -0.3996646 ]), 'mean_test_score': array([-0.40023968, -0.40009918, -0.40005049, -0.40003722, -0.39981584,\n",
      "       -0.39977918, -0.39999278, -0.39978333, -0.39977219]), 'std_test_score': array([8.20867918e-05, 6.09484069e-05, 8.44487777e-05, 5.93596111e-05,\n",
      "       5.97105096e-05, 7.78241902e-05, 3.71274173e-05, 3.38040929e-05,\n",
      "       8.09930858e-05]), 'rank_test_score': array([9, 8, 7, 6, 4, 2, 5, 3, 1]), 'split0_train_score': array([-0.39844552, -0.39832006, -0.39826169, -0.39794808, -0.39782063,\n",
      "       -0.39774505, -0.3977425 , -0.39756161, -0.39758671]), 'split1_train_score': array([-0.39842499, -0.39829107, -0.39826251, -0.39797166, -0.39767065,\n",
      "       -0.39769998, -0.39765537, -0.39745669, -0.39750719]), 'split2_train_score': array([-0.39850924, -0.39837909, -0.39834831, -0.39796188, -0.39778401,\n",
      "       -0.39774641, -0.39772671, -0.39759234, -0.39751002]), 'mean_train_score': array([-0.39845991, -0.39833008, -0.39829084, -0.39796054, -0.39775843,\n",
      "       -0.39773048, -0.39770819, -0.39753688, -0.39753464]), 'std_train_score': array([3.58686264e-05, 3.66239406e-05, 4.06453495e-05, 9.67402442e-06,\n",
      "       6.38438229e-05, 2.15735691e-05, 3.79064452e-05, 5.80746375e-05,\n",
      "       3.68397644e-05])}\n",
      "-0.39977219393745533\n",
      "logloss of train : 0.3980412782525945\n",
      "logloss of test : 0.4033660529015553\n"
     ]
    }
   ],
   "source": [
    "print(gsearch2_2.cv_results_)\n",
    "print(gsearch2_2.best_score_)\n",
    "y_pred_train = gsearch2_2.predict_proba(X_train)\n",
    "logloss = log_loss(y_train, y_pred_train)\n",
    "print (\"logloss of train :\",logloss )\n",
    "\n",
    "y_pred_test = gsearch2_2.predict_proba(X_test)\n",
    "logloss = log_loss(y_test, y_pred_test)\n",
    "print (\"logloss of test :\",logloss )"
   ]
  },
  {
   "cell_type": "code",
   "execution_count": 94,
   "metadata": {},
   "outputs": [
    {
     "name": "stdout",
     "output_type": "stream",
     "text": [
      "Best: -0.399807 using {'min_child_samples': 20, 'min_child_weight': 2}\n"
     ]
    },
    {
     "name": "stderr",
     "output_type": "stream",
     "text": [
      "C:\\Anaconda3\\lib\\site-packages\\sklearn\\utils\\deprecation.py:122: FutureWarning: You are accessing a training score ('mean_train_score'), which will not be available by default any more in 0.21. If you need training scores, please set return_train_score=True\n",
      "  warnings.warn(*warn_args, **warn_kwargs)\n",
      "C:\\Anaconda3\\lib\\site-packages\\sklearn\\utils\\deprecation.py:122: FutureWarning: You are accessing a training score ('std_train_score'), which will not be available by default any more in 0.21. If you need training scores, please set return_train_score=True\n",
      "  warnings.warn(*warn_args, **warn_kwargs)\n",
      "C:\\Anaconda3\\lib\\site-packages\\sklearn\\utils\\deprecation.py:122: FutureWarning: You are accessing a training score ('split0_train_score'), which will not be available by default any more in 0.21. If you need training scores, please set return_train_score=True\n",
      "  warnings.warn(*warn_args, **warn_kwargs)\n",
      "C:\\Anaconda3\\lib\\site-packages\\sklearn\\utils\\deprecation.py:122: FutureWarning: You are accessing a training score ('split1_train_score'), which will not be available by default any more in 0.21. If you need training scores, please set return_train_score=True\n",
      "  warnings.warn(*warn_args, **warn_kwargs)\n",
      "C:\\Anaconda3\\lib\\site-packages\\sklearn\\utils\\deprecation.py:122: FutureWarning: You are accessing a training score ('split2_train_score'), which will not be available by default any more in 0.21. If you need training scores, please set return_train_score=True\n",
      "  warnings.warn(*warn_args, **warn_kwargs)\n"
     ]
    },
    {
     "data": {
      "image/png": "[encoded data removed]",
      "text/plain": [
       "<matplotlib.figure.Figure at 0x2a69ca842b0>"
      ]
     },
     "metadata": {},
     "output_type": "display_data"
    }
   ],
   "source": [
    "# summarize results\n",
    "print(\"Best: %f using %s\" % (gsearch2_2.best_score_, gsearch2_2.best_params_))\n",
    "test_means = gsearch2_2.cv_results_[ 'mean_test_score' ]\n",
    "test_stds = gsearch2_2.cv_results_[ 'std_test_score' ]\n",
    "train_means = gsearch2_2.cv_results_[ 'mean_train_score' ]\n",
    "train_stds = gsearch2_2.cv_results_[ 'std_train_score' ]\n",
    "\n",
    "\n",
    "pd.DataFrame(gsearch2_2.cv_results_).to_csv('my_preds_maxdepth_min_child_weights_1.csv')\n",
    "\n",
    "# plot results\n",
    "test_scores = np.array(test_means).reshape(len(subsample), len(colsample_bytree))\n",
    "train_scores = np.array(train_means).reshape(len(subsample), len(colsample_bytree))\n",
    "\n",
    "for i, value in enumerate(subsample):\n",
    "#    pyplot.plot(colsample_bytree, -test_scores[i], label= 'valid_colsample_bytree:'   + str(value))\n",
    "    pyplot.plot(subsample, -train_scores[i], label= 'train_colsample_bytree:'   + str(value))\n",
    "\n",
    "    \n",
    "pyplot.legend()\n",
    "pyplot.xlabel( 'subsample' )                                                                                                      \n",
    "pyplot.ylabel( 'Log Loss' )\n",
    "pyplot.savefig('max_depth_vs_min_child_weght_1.png' )"
   ]
  },
  {
   "cell_type": "markdown",
   "metadata": {},
   "source": [
    "### 5、调整叶子节点最小数据量和叶子节点最小权重"
   ]
  },
  {
   "cell_type": "code",
   "execution_count": 89,
   "metadata": {},
   "outputs": [
    {
     "data": {
      "text/plain": [
       "{'min_child_samples': [20, 200, 2000], 'min_child_weight': [0.5, 1, 2]}"
      ]
     },
     "execution_count": 89,
     "metadata": {},
     "output_type": "execute_result"
    }
   ],
   "source": [
    "min_child_samples=[20,200,2000]\n",
    "min_child_weight=[0.5,1,2]\n",
    "param_5=dict(min_child_samples=min_child_samples,min_child_weight=min_child_weight)\n",
    "param_5"
   ]
  },
  {
   "cell_type": "code",
   "execution_count": 90,
   "metadata": {},
   "outputs": [
    {
     "data": {
      "text/plain": [
       "GridSearchCV(cv=StratifiedKFold(n_splits=3, random_state=3, shuffle=True),\n",
       "       error_score='raise',\n",
       "       estimator=LGBMClassifier(boosting_type='gbdt', class_weight=None, colsample_bytree=0.8,\n",
       "        learning_rate=0.1, max_bin=256, max_depth=8, min_child_samples=20,\n",
       "        min_child_weight=1, min_split_gain=0.0, n_estimators=363,\n",
       "        n_jobs=-1, nthread=6, num_leaves=50, objective='binary',\n",
       "        random_state=None, reg_alpha=0, reg_lambda=0, scale_pos_weight=1,\n",
       "        seed=0, silent=True, subsample=0.8, subsample_for_bin=200000,\n",
       "        subsample_freq=1),\n",
       "       fit_params=None, iid=True, n_jobs=6,\n",
       "       param_grid={'min_child_samples': [20, 200, 2000], 'min_child_weight': [0.5, 1, 2]},\n",
       "       pre_dispatch='2*n_jobs', refit=True, return_train_score='warn',\n",
       "       scoring='neg_log_loss', verbose=0)"
      ]
     },
     "execution_count": 90,
     "metadata": {},
     "output_type": "execute_result"
    }
   ],
   "source": [
    "kfold = StratifiedKFold(n_splits=3, shuffle=True, random_state=3)\n",
    "\n",
    "params = {'boosting_type': 'gbdt', \n",
    "          'objective': 'binary', \n",
    "          'nthread': 6, \n",
    "          'silent': True,\n",
    "          'learning_rate': 0.1, \n",
    "          'num_leaves': 50, \n",
    "          'max_depth': 8,\n",
    "          'max_bin': 256, \n",
    "          'subsample_for_bin': 200000,#默认200000，用来构建直方图数据数量\n",
    "          'subsample': 0.8, #默认1\n",
    "          'subsample_freq': 1, \n",
    "          'colsample_bytree': 0.8, \n",
    "          'reg_alpha': 0.8,          \n",
    "          'reg_lambda': 0.25,  \n",
    "          'min_split_gain': 0.0, \n",
    "          'min_child_weight': 1,         \n",
    "          'min_child_samples': 20, \n",
    "          'scale_pos_weight': 1,\n",
    "         }\n",
    "lgbm_2=lgbm.sklearn.LGBMClassifier(n_estimators=363,seed=0,**params)\n",
    "gsearch2_2=GridSearchCV(lgbm_2,param_grid=param_5,scoring='neg_log_loss',n_jobs=6, cv=kfold)\n",
    "gsearch2_2.fit(X_train,y_train)"
   ]
  },
  {
   "cell_type": "code",
   "execution_count": 99,
   "metadata": {},
   "outputs": [
    {
     "name": "stdout",
     "output_type": "stream",
     "text": [
      "Best: -0.399807 using {'min_child_samples': 20, 'min_child_weight': 2}\n"
     ]
    },
    {
     "name": "stderr",
     "output_type": "stream",
     "text": [
      "C:\\Anaconda3\\lib\\site-packages\\sklearn\\utils\\deprecation.py:122: FutureWarning: You are accessing a training score ('mean_train_score'), which will not be available by default any more in 0.21. If you need training scores, please set return_train_score=True\n",
      "  warnings.warn(*warn_args, **warn_kwargs)\n",
      "C:\\Anaconda3\\lib\\site-packages\\sklearn\\utils\\deprecation.py:122: FutureWarning: You are accessing a training score ('std_train_score'), which will not be available by default any more in 0.21. If you need training scores, please set return_train_score=True\n",
      "  warnings.warn(*warn_args, **warn_kwargs)\n",
      "C:\\Anaconda3\\lib\\site-packages\\sklearn\\utils\\deprecation.py:122: FutureWarning: You are accessing a training score ('split0_train_score'), which will not be available by default any more in 0.21. If you need training scores, please set return_train_score=True\n",
      "  warnings.warn(*warn_args, **warn_kwargs)\n",
      "C:\\Anaconda3\\lib\\site-packages\\sklearn\\utils\\deprecation.py:122: FutureWarning: You are accessing a training score ('split1_train_score'), which will not be available by default any more in 0.21. If you need training scores, please set return_train_score=True\n",
      "  warnings.warn(*warn_args, **warn_kwargs)\n",
      "C:\\Anaconda3\\lib\\site-packages\\sklearn\\utils\\deprecation.py:122: FutureWarning: You are accessing a training score ('split2_train_score'), which will not be available by default any more in 0.21. If you need training scores, please set return_train_score=True\n",
      "  warnings.warn(*warn_args, **warn_kwargs)\n"
     ]
    },
    {
     "data": {
      "image/png": "[encoded data removed]",
      "text/plain": [
       "<matplotlib.figure.Figure at 0x2a68eeeb470>"
      ]
     },
     "metadata": {},
     "output_type": "display_data"
    }
   ],
   "source": [
    "# summarize results\n",
    "print(\"Best: %f using %s\" % (gsearch2_2.best_score_, gsearch2_2.best_params_))\n",
    "test_means = gsearch2_2.cv_results_[ 'mean_test_score' ]\n",
    "test_stds = gsearch2_2.cv_results_[ 'std_test_score' ]\n",
    "train_means = gsearch2_2.cv_results_[ 'mean_train_score' ]\n",
    "train_stds = gsearch2_2.cv_results_[ 'std_train_score' ]\n",
    "\n",
    "\n",
    "pd.DataFrame(gsearch2_2.cv_results_).to_csv('my_preds_maxdepth_min_child_weights_1.csv')\n",
    "\n",
    "# plot results\n",
    "test_scores = np.array(test_means).reshape(len(subsample), len(colsample_bytree))\n",
    "train_scores = np.array(train_means).reshape(len(subsample), len(colsample_bytree))\n",
    "\n",
    "for i, value in enumerate(min_child_weight):\n",
    "#    pyplot.plot(min_child_samples, -test_scores[i], label= 'valid_min_child_weight:'   + str(value))\n",
    "     pyplot.plot(min_child_weight, -train_scores[i], label= 'train_min_child_weight:'   + str(value))\n",
    "\n",
    "    \n",
    "pyplot.legend()\n",
    "pyplot.xlabel( 'min_child_samples' )                                                                                                      \n",
    "pyplot.ylabel( 'Log Loss' )\n",
    "pyplot.savefig('max_depth_vs_min_child_weght_1.png' )"
   ]
  },
  {
   "cell_type": "markdown",
   "metadata": {},
   "source": [
    "### 6 重新优化一下 树的数量"
   ]
  },
  {
   "cell_type": "code",
   "execution_count": 100,
   "metadata": {},
   "outputs": [],
   "source": [
    "params = {'boosting_type': 'gbdt', \n",
    "          'objective': 'binary', \n",
    "          'nthread': 6, \n",
    "          #default=OpenMP_default, type=int, alias=num_thread, nthread LightGBM 的线程数\n",
    "          'silent': True,\n",
    "          'learning_rate': 0.1, \n",
    "          'num_leaves': 50, \n",
    "          #num_leaves：叶子数\n",
    "#num_leaves, default=31, type=int, alias=num_leaf一棵树上的叶子数\n",
    "          'max_depth': 8,\n",
    "          'max_bin': 256, \n",
    "          'subsample_for_bin': 200000,#默认200000，用来构建直方图数据数量\n",
    "          'subsample': 0.8, #默认1\n",
    "          #类似于feature_fraction,它将在不进行重采样的情况下\n",
    "          #随机选择部分数据可以用来加速训练可以用来处理过拟合Not\n",
    "          'subsample_freq': 1, \n",
    "          'colsample_bytree': 0.8,       \n",
    "          'reg_alpha': 0.8,         \n",
    "          'reg_lambda': 0.25, \n",
    "          'min_split_gain': 0.0, \n",
    "          'min_child_weight': 1,        \n",
    "          'min_child_samples': 100, \n",
    "          #default=20, type=int, alias=min_data_per_leaf , min_data, \n",
    "          #min_child_samples一个叶子上数据的最小数量. 可以用来处理过拟合.\n",
    "        \n",
    "\n",
    "         }"
   ]
  },
  {
   "cell_type": "code",
   "execution_count": 101,
   "metadata": {},
   "outputs": [
    {
     "name": "stderr",
     "output_type": "stream",
     "text": [
      "C:\\Anaconda3\\lib\\site-packages\\lightgbm\\basic.py:1040: UserWarning: Using categorical_feature in Dataset.\n",
      "  warnings.warn('Using categorical_feature in Dataset.')\n",
      "C:\\Anaconda3\\lib\\site-packages\\lightgbm\\basic.py:661: UserWarning: silent keyword has been found in `params` and will be ignored. Please use silent argument of the Dataset constructor to pass this parameter.\n",
      "  'Please use {0} argument of the Dataset constructor to pass this parameter.'.format(key))\n"
     ]
    },
    {
     "name": "stdout",
     "output_type": "stream",
     "text": [
      "best n_estimators: 284\n",
      "best cv logloss: 0.39955036588252835\n",
      "logloss of train : 0.39974860472393803\n",
      "logloss of test : 0.4045745986483505\n",
      "time cost232.7710998058319s\n"
     ]
    }
   ],
   "source": [
    "time_start=time.time()\n",
    "\n",
    "lgbm6 = lgbm.sklearn.LGBMClassifier(n_estimators=1000,seed=0, **params)\n",
    "modelfit(params,lgbm6, X_train, y_train)\n",
    "\n",
    "time_end=time.time()\n",
    "a=time_end - time_start\n",
    "print('time cost'+str(a)+'s')"
   ]
  },
  {
   "cell_type": "markdown",
   "metadata": {},
   "source": [
    "### 7模型训练"
   ]
  },
  {
   "cell_type": "code",
   "execution_count": 118,
   "metadata": {},
   "outputs": [
    {
     "name": "stderr",
     "output_type": "stream",
     "text": [
      "C:\\Anaconda3\\lib\\site-packages\\lightgbm\\engine.py:102: UserWarning: Found `num_boost_round` in params. Will use it instead of argument\n",
      "  warnings.warn(\"Found `{}` in params. Will use it instead of argument\".format(alias))\n"
     ]
    },
    {
     "name": "stdout",
     "output_type": "stream",
     "text": [
      "92.0268828868866\n"
     ]
    }
   ],
   "source": [
    "start=time.time()\n",
    "# 定义模型\n",
    "lgb7 = lgbm.LGBMRegressor(\n",
    "          num_boost_round=284,\n",
    "          boosting='gbdt', \n",
    "          objective='binary', \n",
    "          num_threads=6, \n",
    "          #default=OpenMP_default, type=int, alias=num_thread, nthread LightGBM 的线程数\n",
    "#          'silent': True,\n",
    "          learning_rate=0.1, \n",
    "          num_leaves=50, \n",
    "          #num_leaves：叶子数\n",
    "#num_leaves, default=31, type=int, alias=num_leaf一棵树上的叶子数\n",
    "          max_depth= 8,\n",
    "          max_bi= 256, \n",
    "          subsample_for_bin= 200000,#默认200000，用来构建直方图数据数量\n",
    "          subsample= 0.8, #默认1\n",
    "          #类似于feature_fraction,它将在不进行重采样的情况下\n",
    "          #随机选择部分数据可以用来加速训练可以用来处理过拟合Not\n",
    "          subsample_freq= 1, \n",
    "          colsample_bytree= 0.8,       \n",
    "          reg_alpha= 0.8,         \n",
    "          reg_lambda= 0.25, \n",
    "          min_split_gain=0.0, \n",
    "          min_child_weight= 1,        \n",
    "          min_child_samples= 200, \n",
    "          min_data_in_leaf=50, \n",
    "          #default=20, type=int, alias=min_data_per_leaf , min_data, \n",
    "          #min_child_samples一个叶子上数据的最小数量. 可以用来处理过拟合.\n",
    "        \n",
    "        # 'categorical_feature':3\n",
    "         # 'categorical_feature':3:26\n",
    "         )\n",
    "# 训练学习\n",
    "model=lgb7.fit(X_train, y_train)\n",
    "end=time.time()\n",
    "print(end-start)"
   ]
  },
  {
   "cell_type": "code",
   "execution_count": 119,
   "metadata": {},
   "outputs": [
    {
     "name": "stdout",
     "output_type": "stream",
     "text": [
      "logloss of train : 0.4001760588598642\n",
      "logloss of valid : 0.40093575026031686\n",
      "logloss of test : 0.40354506207393454\n"
     ]
    }
   ],
   "source": [
    "# train上logloss评测\n",
    "y_pred_train = lgb7.predict(X_train)\n",
    "logloss = log_loss(y_train, y_pred_train)\n",
    "print (\"logloss of train :\",logloss )\n",
    "\n",
    "# valid上logloss评测\n",
    "y_pred_valid = lgb7.predict(X_valid)\n",
    "logloss = log_loss(y_valid, y_pred_valid)\n",
    "print (\"logloss of valid :\",logloss )\n",
    "\n",
    "# test上logloss评测\n",
    "y_pred_test = lgb7.predict(X_test)\n",
    "logloss = log_loss(y_test, y_pred_test)\n",
    "print (\"logloss of test :\",logloss )"
   ]
  }
 ],
 "metadata": {
  "kernelspec": {
   "display_name": "Python 3",
   "language": "python",
   "name": "python3"
  },
  "language_info": {
   "codemirror_mode": {
    "name": "ipython",
    "version": 3
   },
   "file_extension": ".py",
   "mimetype": "text/x-python",
   "name": "python",
   "nbconvert_exporter": "python",
   "pygments_lexer": "ipython3",
   "version": "3.6.4"
  }
 },
 "nbformat": 4,
 "nbformat_minor": 2
}
